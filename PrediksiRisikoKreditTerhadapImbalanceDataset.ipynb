{
  "nbformat": 4,
  "nbformat_minor": 0,
  "metadata": {
    "colab": {
      "provenance": [],
      "authorship_tag": "ABX9TyMOTWFHvaMshk37hY5U0pp0",
      "include_colab_link": true
    },
    "kernelspec": {
      "name": "python3",
      "display_name": "Python 3"
    },
    "language_info": {
      "name": "python"
    }
  },
  "cells": [
    {
      "cell_type": "markdown",
      "metadata": {
        "id": "view-in-github",
        "colab_type": "text"
      },
      "source": [
        "<a href=\"https://colab.research.google.com/github/assyifa2/Project_creditrisk/blob/main/PrediksiRisikoKreditTerhadapImbalanceDataset.ipynb\" target=\"_parent\"><img src=\"https://colab.research.google.com/assets/colab-badge.svg\" alt=\"Open In Colab\"/></a>"
      ]
    },
    {
      "cell_type": "markdown",
      "source": [
        "# **Data selection**"
      ],
      "metadata": {
        "id": "OIILVLGAHJk-"
      }
    },
    {
      "cell_type": "code",
      "execution_count": null,
      "metadata": {
        "id": "JWCB3H37HBhJ"
      },
      "outputs": [],
      "source": [
        "import pandas as pd\n",
        "import numpy as np\n",
        "import seaborn as sns\n",
        "import matplotlib.pyplot as plt\n",
        "import requests\n",
        "from sklearn.preprocessing import LabelEncoder, RobustScaler\n",
        "from sklearn.model_selection import cross_val_predict, cross_validate, KFold\n",
        "from sklearn.ensemble import RandomForestClassifier\n",
        "from sklearn.metrics import confusion_matrix, roc_auc_score, roc_curve, make_scorer, accuracy_score\n",
        "from sklearn.metrics import precision_score, recall_score, f1_score,classification_report\n",
        "from imblearn.over_sampling import SMOTE\n",
        "from sklearn.feature_selection import RFE\n",
        "from sklearn.preprocessing import RobustScaler"
      ]
    },
    {
      "cell_type": "code",
      "source": [
        "# URL dari dataset dari drive\n",
        "from google.colab import drive\n",
        "drive.mount('/content/drive')"
      ],
      "metadata": {
        "colab": {
          "base_uri": "https://localhost:8080/"
        },
        "id": "_iziP-KSHhhg",
        "outputId": "dec0fa9f-97fd-453c-950b-4b22f1e5b715"
      },
      "execution_count": null,
      "outputs": [
        {
          "output_type": "stream",
          "name": "stdout",
          "text": [
            "Mounted at /content/drive\n"
          ]
        }
      ]
    },
    {
      "cell_type": "code",
      "source": [
        "#import data dari Gdrive\n",
        "path='/content/drive/MyDrive/DATASET/german.csv'\n",
        "german=pd.read_csv(path, sep=' ',header=None)"
      ],
      "metadata": {
        "id": "LWcewzOoIKhV"
      },
      "execution_count": null,
      "outputs": []
    },
    {
      "cell_type": "markdown",
      "source": [
        "# **Data Understanding/Preprocessing**"
      ],
      "metadata": {
        "id": "RwG2AoHZH0hP"
      }
    },
    {
      "cell_type": "code",
      "source": [
        "#mengganti Header nama kolom\n",
        "german.columns = [\"checking_account_status\", \"duration\", \"credit_history\", \"purpose\", \"credit_amount\", \"savings\", \"present_employment\", \"installment_rate\", \"personal\", \"other_debtors\",\n",
        "    \"present_residence\", \"property\", \"age\", \"other_installment_plans\", \"housing\", \"existing_credits\", \"job\", \"dependents\", \"telephone\", \"foreign_worker\", \"customer_type\"]"
      ],
      "metadata": {
        "id": "-dqCHx6kHy66"
      },
      "execution_count": null,
      "outputs": []
    },
    {
      "cell_type": "code",
      "source": [
        "#buat data frame\n",
        "df=pd.DataFrame(german)\n",
        "df.head()"
      ],
      "metadata": {
        "colab": {
          "base_uri": "https://localhost:8080/",
          "height": 256
        },
        "id": "sOv3LpH5IOBV",
        "outputId": "98c6c334-e485-4102-ab02-4e9fef7573d5"
      },
      "execution_count": null,
      "outputs": [
        {
          "output_type": "execute_result",
          "data": {
            "text/plain": [
              "  checking_account_status  duration credit_history purpose  credit_amount  \\\n",
              "0                     A11         6            A34     A43           1169   \n",
              "1                     A12        48            A32     A43           5951   \n",
              "2                     A14        12            A34     A46           2096   \n",
              "3                     A11        42            A32     A42           7882   \n",
              "4                     A11        24            A33     A40           4870   \n",
              "\n",
              "  savings present_employment  installment_rate personal other_debtors  ...  \\\n",
              "0     A65                A75                 4      A93          A101  ...   \n",
              "1     A61                A73                 2      A92          A101  ...   \n",
              "2     A61                A74                 2      A93          A101  ...   \n",
              "3     A61                A74                 2      A93          A103  ...   \n",
              "4     A61                A73                 3      A93          A101  ...   \n",
              "\n",
              "   property age  other_installment_plans housing existing_credits   job  \\\n",
              "0      A121  67                     A143    A152                2  A173   \n",
              "1      A121  22                     A143    A152                1  A173   \n",
              "2      A121  49                     A143    A152                1  A172   \n",
              "3      A122  45                     A143    A153                1  A173   \n",
              "4      A124  53                     A143    A153                2  A173   \n",
              "\n",
              "  dependents  telephone foreign_worker customer_type  \n",
              "0          1       A192           A201             1  \n",
              "1          1       A191           A201             2  \n",
              "2          2       A191           A201             1  \n",
              "3          2       A191           A201             1  \n",
              "4          2       A191           A201             2  \n",
              "\n",
              "[5 rows x 21 columns]"
            ],
            "text/html": [
              "\n",
              "  <div id=\"df-b612a7e3-6759-48fa-a0e1-a9ca5c9e4c1e\" class=\"colab-df-container\">\n",
              "    <div>\n",
              "<style scoped>\n",
              "    .dataframe tbody tr th:only-of-type {\n",
              "        vertical-align: middle;\n",
              "    }\n",
              "\n",
              "    .dataframe tbody tr th {\n",
              "        vertical-align: top;\n",
              "    }\n",
              "\n",
              "    .dataframe thead th {\n",
              "        text-align: right;\n",
              "    }\n",
              "</style>\n",
              "<table border=\"1\" class=\"dataframe\">\n",
              "  <thead>\n",
              "    <tr style=\"text-align: right;\">\n",
              "      <th></th>\n",
              "      <th>checking_account_status</th>\n",
              "      <th>duration</th>\n",
              "      <th>credit_history</th>\n",
              "      <th>purpose</th>\n",
              "      <th>credit_amount</th>\n",
              "      <th>savings</th>\n",
              "      <th>present_employment</th>\n",
              "      <th>installment_rate</th>\n",
              "      <th>personal</th>\n",
              "      <th>other_debtors</th>\n",
              "      <th>...</th>\n",
              "      <th>property</th>\n",
              "      <th>age</th>\n",
              "      <th>other_installment_plans</th>\n",
              "      <th>housing</th>\n",
              "      <th>existing_credits</th>\n",
              "      <th>job</th>\n",
              "      <th>dependents</th>\n",
              "      <th>telephone</th>\n",
              "      <th>foreign_worker</th>\n",
              "      <th>customer_type</th>\n",
              "    </tr>\n",
              "  </thead>\n",
              "  <tbody>\n",
              "    <tr>\n",
              "      <th>0</th>\n",
              "      <td>A11</td>\n",
              "      <td>6</td>\n",
              "      <td>A34</td>\n",
              "      <td>A43</td>\n",
              "      <td>1169</td>\n",
              "      <td>A65</td>\n",
              "      <td>A75</td>\n",
              "      <td>4</td>\n",
              "      <td>A93</td>\n",
              "      <td>A101</td>\n",
              "      <td>...</td>\n",
              "      <td>A121</td>\n",
              "      <td>67</td>\n",
              "      <td>A143</td>\n",
              "      <td>A152</td>\n",
              "      <td>2</td>\n",
              "      <td>A173</td>\n",
              "      <td>1</td>\n",
              "      <td>A192</td>\n",
              "      <td>A201</td>\n",
              "      <td>1</td>\n",
              "    </tr>\n",
              "    <tr>\n",
              "      <th>1</th>\n",
              "      <td>A12</td>\n",
              "      <td>48</td>\n",
              "      <td>A32</td>\n",
              "      <td>A43</td>\n",
              "      <td>5951</td>\n",
              "      <td>A61</td>\n",
              "      <td>A73</td>\n",
              "      <td>2</td>\n",
              "      <td>A92</td>\n",
              "      <td>A101</td>\n",
              "      <td>...</td>\n",
              "      <td>A121</td>\n",
              "      <td>22</td>\n",
              "      <td>A143</td>\n",
              "      <td>A152</td>\n",
              "      <td>1</td>\n",
              "      <td>A173</td>\n",
              "      <td>1</td>\n",
              "      <td>A191</td>\n",
              "      <td>A201</td>\n",
              "      <td>2</td>\n",
              "    </tr>\n",
              "    <tr>\n",
              "      <th>2</th>\n",
              "      <td>A14</td>\n",
              "      <td>12</td>\n",
              "      <td>A34</td>\n",
              "      <td>A46</td>\n",
              "      <td>2096</td>\n",
              "      <td>A61</td>\n",
              "      <td>A74</td>\n",
              "      <td>2</td>\n",
              "      <td>A93</td>\n",
              "      <td>A101</td>\n",
              "      <td>...</td>\n",
              "      <td>A121</td>\n",
              "      <td>49</td>\n",
              "      <td>A143</td>\n",
              "      <td>A152</td>\n",
              "      <td>1</td>\n",
              "      <td>A172</td>\n",
              "      <td>2</td>\n",
              "      <td>A191</td>\n",
              "      <td>A201</td>\n",
              "      <td>1</td>\n",
              "    </tr>\n",
              "    <tr>\n",
              "      <th>3</th>\n",
              "      <td>A11</td>\n",
              "      <td>42</td>\n",
              "      <td>A32</td>\n",
              "      <td>A42</td>\n",
              "      <td>7882</td>\n",
              "      <td>A61</td>\n",
              "      <td>A74</td>\n",
              "      <td>2</td>\n",
              "      <td>A93</td>\n",
              "      <td>A103</td>\n",
              "      <td>...</td>\n",
              "      <td>A122</td>\n",
              "      <td>45</td>\n",
              "      <td>A143</td>\n",
              "      <td>A153</td>\n",
              "      <td>1</td>\n",
              "      <td>A173</td>\n",
              "      <td>2</td>\n",
              "      <td>A191</td>\n",
              "      <td>A201</td>\n",
              "      <td>1</td>\n",
              "    </tr>\n",
              "    <tr>\n",
              "      <th>4</th>\n",
              "      <td>A11</td>\n",
              "      <td>24</td>\n",
              "      <td>A33</td>\n",
              "      <td>A40</td>\n",
              "      <td>4870</td>\n",
              "      <td>A61</td>\n",
              "      <td>A73</td>\n",
              "      <td>3</td>\n",
              "      <td>A93</td>\n",
              "      <td>A101</td>\n",
              "      <td>...</td>\n",
              "      <td>A124</td>\n",
              "      <td>53</td>\n",
              "      <td>A143</td>\n",
              "      <td>A153</td>\n",
              "      <td>2</td>\n",
              "      <td>A173</td>\n",
              "      <td>2</td>\n",
              "      <td>A191</td>\n",
              "      <td>A201</td>\n",
              "      <td>2</td>\n",
              "    </tr>\n",
              "  </tbody>\n",
              "</table>\n",
              "<p>5 rows × 21 columns</p>\n",
              "</div>\n",
              "    <div class=\"colab-df-buttons\">\n",
              "\n",
              "  <div class=\"colab-df-container\">\n",
              "    <button class=\"colab-df-convert\" onclick=\"convertToInteractive('df-b612a7e3-6759-48fa-a0e1-a9ca5c9e4c1e')\"\n",
              "            title=\"Convert this dataframe to an interactive table.\"\n",
              "            style=\"display:none;\">\n",
              "\n",
              "  <svg xmlns=\"http://www.w3.org/2000/svg\" height=\"24px\" viewBox=\"0 -960 960 960\">\n",
              "    <path d=\"M120-120v-720h720v720H120Zm60-500h600v-160H180v160Zm220 220h160v-160H400v160Zm0 220h160v-160H400v160ZM180-400h160v-160H180v160Zm440 0h160v-160H620v160ZM180-180h160v-160H180v160Zm440 0h160v-160H620v160Z\"/>\n",
              "  </svg>\n",
              "    </button>\n",
              "\n",
              "  <style>\n",
              "    .colab-df-container {\n",
              "      display:flex;\n",
              "      gap: 12px;\n",
              "    }\n",
              "\n",
              "    .colab-df-convert {\n",
              "      background-color: #E8F0FE;\n",
              "      border: none;\n",
              "      border-radius: 50%;\n",
              "      cursor: pointer;\n",
              "      display: none;\n",
              "      fill: #1967D2;\n",
              "      height: 32px;\n",
              "      padding: 0 0 0 0;\n",
              "      width: 32px;\n",
              "    }\n",
              "\n",
              "    .colab-df-convert:hover {\n",
              "      background-color: #E2EBFA;\n",
              "      box-shadow: 0px 1px 2px rgba(60, 64, 67, 0.3), 0px 1px 3px 1px rgba(60, 64, 67, 0.15);\n",
              "      fill: #174EA6;\n",
              "    }\n",
              "\n",
              "    .colab-df-buttons div {\n",
              "      margin-bottom: 4px;\n",
              "    }\n",
              "\n",
              "    [theme=dark] .colab-df-convert {\n",
              "      background-color: #3B4455;\n",
              "      fill: #D2E3FC;\n",
              "    }\n",
              "\n",
              "    [theme=dark] .colab-df-convert:hover {\n",
              "      background-color: #434B5C;\n",
              "      box-shadow: 0px 1px 3px 1px rgba(0, 0, 0, 0.15);\n",
              "      filter: drop-shadow(0px 1px 2px rgba(0, 0, 0, 0.3));\n",
              "      fill: #FFFFFF;\n",
              "    }\n",
              "  </style>\n",
              "\n",
              "    <script>\n",
              "      const buttonEl =\n",
              "        document.querySelector('#df-b612a7e3-6759-48fa-a0e1-a9ca5c9e4c1e button.colab-df-convert');\n",
              "      buttonEl.style.display =\n",
              "        google.colab.kernel.accessAllowed ? 'block' : 'none';\n",
              "\n",
              "      async function convertToInteractive(key) {\n",
              "        const element = document.querySelector('#df-b612a7e3-6759-48fa-a0e1-a9ca5c9e4c1e');\n",
              "        const dataTable =\n",
              "          await google.colab.kernel.invokeFunction('convertToInteractive',\n",
              "                                                    [key], {});\n",
              "        if (!dataTable) return;\n",
              "\n",
              "        const docLinkHtml = 'Like what you see? Visit the ' +\n",
              "          '<a target=\"_blank\" href=https://colab.research.google.com/notebooks/data_table.ipynb>data table notebook</a>'\n",
              "          + ' to learn more about interactive tables.';\n",
              "        element.innerHTML = '';\n",
              "        dataTable['output_type'] = 'display_data';\n",
              "        await google.colab.output.renderOutput(dataTable, element);\n",
              "        const docLink = document.createElement('div');\n",
              "        docLink.innerHTML = docLinkHtml;\n",
              "        element.appendChild(docLink);\n",
              "      }\n",
              "    </script>\n",
              "  </div>\n",
              "\n",
              "\n",
              "<div id=\"df-9275c45b-6c5f-48b3-b68f-a11024a3355a\">\n",
              "  <button class=\"colab-df-quickchart\" onclick=\"quickchart('df-9275c45b-6c5f-48b3-b68f-a11024a3355a')\"\n",
              "            title=\"Suggest charts\"\n",
              "            style=\"display:none;\">\n",
              "\n",
              "<svg xmlns=\"http://www.w3.org/2000/svg\" height=\"24px\"viewBox=\"0 0 24 24\"\n",
              "     width=\"24px\">\n",
              "    <g>\n",
              "        <path d=\"M19 3H5c-1.1 0-2 .9-2 2v14c0 1.1.9 2 2 2h14c1.1 0 2-.9 2-2V5c0-1.1-.9-2-2-2zM9 17H7v-7h2v7zm4 0h-2V7h2v10zm4 0h-2v-4h2v4z\"/>\n",
              "    </g>\n",
              "</svg>\n",
              "  </button>\n",
              "\n",
              "<style>\n",
              "  .colab-df-quickchart {\n",
              "      --bg-color: #E8F0FE;\n",
              "      --fill-color: #1967D2;\n",
              "      --hover-bg-color: #E2EBFA;\n",
              "      --hover-fill-color: #174EA6;\n",
              "      --disabled-fill-color: #AAA;\n",
              "      --disabled-bg-color: #DDD;\n",
              "  }\n",
              "\n",
              "  [theme=dark] .colab-df-quickchart {\n",
              "      --bg-color: #3B4455;\n",
              "      --fill-color: #D2E3FC;\n",
              "      --hover-bg-color: #434B5C;\n",
              "      --hover-fill-color: #FFFFFF;\n",
              "      --disabled-bg-color: #3B4455;\n",
              "      --disabled-fill-color: #666;\n",
              "  }\n",
              "\n",
              "  .colab-df-quickchart {\n",
              "    background-color: var(--bg-color);\n",
              "    border: none;\n",
              "    border-radius: 50%;\n",
              "    cursor: pointer;\n",
              "    display: none;\n",
              "    fill: var(--fill-color);\n",
              "    height: 32px;\n",
              "    padding: 0;\n",
              "    width: 32px;\n",
              "  }\n",
              "\n",
              "  .colab-df-quickchart:hover {\n",
              "    background-color: var(--hover-bg-color);\n",
              "    box-shadow: 0 1px 2px rgba(60, 64, 67, 0.3), 0 1px 3px 1px rgba(60, 64, 67, 0.15);\n",
              "    fill: var(--button-hover-fill-color);\n",
              "  }\n",
              "\n",
              "  .colab-df-quickchart-complete:disabled,\n",
              "  .colab-df-quickchart-complete:disabled:hover {\n",
              "    background-color: var(--disabled-bg-color);\n",
              "    fill: var(--disabled-fill-color);\n",
              "    box-shadow: none;\n",
              "  }\n",
              "\n",
              "  .colab-df-spinner {\n",
              "    border: 2px solid var(--fill-color);\n",
              "    border-color: transparent;\n",
              "    border-bottom-color: var(--fill-color);\n",
              "    animation:\n",
              "      spin 1s steps(1) infinite;\n",
              "  }\n",
              "\n",
              "  @keyframes spin {\n",
              "    0% {\n",
              "      border-color: transparent;\n",
              "      border-bottom-color: var(--fill-color);\n",
              "      border-left-color: var(--fill-color);\n",
              "    }\n",
              "    20% {\n",
              "      border-color: transparent;\n",
              "      border-left-color: var(--fill-color);\n",
              "      border-top-color: var(--fill-color);\n",
              "    }\n",
              "    30% {\n",
              "      border-color: transparent;\n",
              "      border-left-color: var(--fill-color);\n",
              "      border-top-color: var(--fill-color);\n",
              "      border-right-color: var(--fill-color);\n",
              "    }\n",
              "    40% {\n",
              "      border-color: transparent;\n",
              "      border-right-color: var(--fill-color);\n",
              "      border-top-color: var(--fill-color);\n",
              "    }\n",
              "    60% {\n",
              "      border-color: transparent;\n",
              "      border-right-color: var(--fill-color);\n",
              "    }\n",
              "    80% {\n",
              "      border-color: transparent;\n",
              "      border-right-color: var(--fill-color);\n",
              "      border-bottom-color: var(--fill-color);\n",
              "    }\n",
              "    90% {\n",
              "      border-color: transparent;\n",
              "      border-bottom-color: var(--fill-color);\n",
              "    }\n",
              "  }\n",
              "</style>\n",
              "\n",
              "  <script>\n",
              "    async function quickchart(key) {\n",
              "      const quickchartButtonEl =\n",
              "        document.querySelector('#' + key + ' button');\n",
              "      quickchartButtonEl.disabled = true;  // To prevent multiple clicks.\n",
              "      quickchartButtonEl.classList.add('colab-df-spinner');\n",
              "      try {\n",
              "        const charts = await google.colab.kernel.invokeFunction(\n",
              "            'suggestCharts', [key], {});\n",
              "      } catch (error) {\n",
              "        console.error('Error during call to suggestCharts:', error);\n",
              "      }\n",
              "      quickchartButtonEl.classList.remove('colab-df-spinner');\n",
              "      quickchartButtonEl.classList.add('colab-df-quickchart-complete');\n",
              "    }\n",
              "    (() => {\n",
              "      let quickchartButtonEl =\n",
              "        document.querySelector('#df-9275c45b-6c5f-48b3-b68f-a11024a3355a button');\n",
              "      quickchartButtonEl.style.display =\n",
              "        google.colab.kernel.accessAllowed ? 'block' : 'none';\n",
              "    })();\n",
              "  </script>\n",
              "</div>\n",
              "\n",
              "    </div>\n",
              "  </div>\n"
            ],
            "application/vnd.google.colaboratory.intrinsic+json": {
              "type": "dataframe",
              "variable_name": "df"
            }
          },
          "metadata": {},
          "execution_count": 5
        }
      ]
    },
    {
      "cell_type": "code",
      "source": [
        "df.info()"
      ],
      "metadata": {
        "colab": {
          "base_uri": "https://localhost:8080/"
        },
        "id": "rT4FDZ50IXko",
        "outputId": "beabbed8-b84d-4a98-b6f7-49c6081ab9f4"
      },
      "execution_count": null,
      "outputs": [
        {
          "output_type": "stream",
          "name": "stdout",
          "text": [
            "<class 'pandas.core.frame.DataFrame'>\n",
            "RangeIndex: 1000 entries, 0 to 999\n",
            "Data columns (total 21 columns):\n",
            " #   Column                   Non-Null Count  Dtype \n",
            "---  ------                   --------------  ----- \n",
            " 0   checking_account_status  1000 non-null   object\n",
            " 1   duration                 1000 non-null   int64 \n",
            " 2   credit_history           1000 non-null   object\n",
            " 3   purpose                  1000 non-null   object\n",
            " 4   credit_amount            1000 non-null   int64 \n",
            " 5   savings                  1000 non-null   object\n",
            " 6   present_employment       1000 non-null   object\n",
            " 7   installment_rate         1000 non-null   int64 \n",
            " 8   personal                 1000 non-null   object\n",
            " 9   other_debtors            1000 non-null   object\n",
            " 10  present_residence        1000 non-null   int64 \n",
            " 11  property                 1000 non-null   object\n",
            " 12  age                      1000 non-null   int64 \n",
            " 13  other_installment_plans  1000 non-null   object\n",
            " 14  housing                  1000 non-null   object\n",
            " 15  existing_credits         1000 non-null   int64 \n",
            " 16  job                      1000 non-null   object\n",
            " 17  dependents               1000 non-null   int64 \n",
            " 18  telephone                1000 non-null   object\n",
            " 19  foreign_worker           1000 non-null   object\n",
            " 20  customer_type            1000 non-null   int64 \n",
            "dtypes: int64(8), object(13)\n",
            "memory usage: 164.2+ KB\n"
          ]
        }
      ]
    },
    {
      "cell_type": "markdown",
      "source": [
        " ### Data memiliki 2 tipe ata yaitu 13 data berisi data kategorikal dan 8 data bertipe numerik\n",
        "\n",
        "# Target variable:\n",
        "\n",
        "* customer_type - Integer --> 1 (good), 2 (bad)\n",
        "\n",
        "# Variabel yang bertipe kategorikal, yaitu:\n",
        "\n",
        "* checking_account_status:\n",
        "\n",
        " A11: ... < 0 DM (Deutsche Mark)-->Ini menunjukkan pemohon memiliki saldo negatif di rekening gironya. Ini adalah tanda bahaya bagi pemberi pinjaman karena menunjukkan pengelolaan keuangan yang buruk.\n",
        "\n",
        " A12: 0 <= ... < 200 DM--> Pemohon memiliki rekening giro dengan saldo rendah antara 0 dan 200 Deutschmarks (DM). Hal ini tidak selalu menyiratkan kelayakan kredit yang buruk, tetapi juga tidak menunjukkan bantalan keuangan yang kuat.\n",
        "\n",
        " A13: ... >= 200 DM / Salary Assigment for at least 1 year -->Ini adalah opsi yang paling positif. Pemohon memiliki rekening giro dengan saldo minimal 200 DM. Selain itu, mereka memiliki penugasan gaji minimal selama satu tahun, yang berarti sebagian dari gaji mereka secara otomatis disetorkan ke rekening. Hal ini menunjukkan aliran pendapatan yang stabil dan pengelolaan keuangan yang bertanggung jawab.\n",
        "\n",
        " A14: No checking account-->Pemohon tidak memiliki rekening giro. Hal ini dapat disebabkan oleh berbagai alasan, dan tidak secara otomatis berarti kredit buruk.\n",
        "\n",
        "* credit_history:\n",
        "\n",
        " A30: No Credits Taken/All Credits Paid Back Duly\n",
        " A31: All Credits At This Bank Paid Back Duly\n",
        " A32: Existing Credits Paid Back Duly Till Now\n",
        " A33: Delay In Paying Off In The Past\n",
        " A34: Critical Account/ Other Credits Existing (Not At This Bank)\n",
        "\n",
        "* purpose:\n",
        "\n",
        " A40 : Car (New)\n",
        " A41 : Car (Used)\n",
        " A42: Furniture/Equipment\n",
        " A43: Radio/Television\n",
        " A44 : Domestic Appliances\n",
        " A45 : Repairs\n",
        " A46 : Education\n",
        " A47 : (Vacation - Does Not Exist?)\n",
        " A48 : Retraining\n",
        " A49 : Business\n",
        " A410 :Others\n",
        "\n",
        "* savings:\n",
        "\n",
        " A61: … < 100 DM\n",
        "\n",
        " A62: 100 <= … < 500 DM\n",
        "\n",
        " A63: 500 <=…<1000 DM\n",
        "\n",
        " A64: ... >= 1000 DM\n",
        "\n",
        " A65: Unknown/ No Saving Account\n",
        "\n",
        "* present_employment:\n",
        "\n",
        " A71: unemployed\n",
        "\n",
        " A72: ... < 1 year\n",
        "\n",
        " A73: 1 <= ... < 4 years\n",
        "\n",
        " A74: 4 <= ... < 7 years\n",
        "\n",
        " A75:... >= 7 years\n",
        "\n",
        "* personal:\n",
        "\n",
        " A91 : Male:Divorced/Separated\n",
        "\n",
        " A92 : Female:Divorced/Separated/ Married\n",
        "\n",
        " A93 : Male:Single\n",
        "\n",
        " A94 : Male:Married/Widowed\n",
        "\n",
        " A95 : Female:Single\n",
        "\n",
        "\n",
        "* other_debtors:\n",
        "\n",
        " A101 : none\n",
        "\n",
        " A102 : co-applicant\n",
        "\n",
        " A103 : guarantor\n",
        "\n",
        "* property:\n",
        "\n",
        " A121 : Real Estate\n",
        "\n",
        " A122 : If Not A121 : Building Society Savings\n",
        "\n",
        " Agreement/ Life Insurance\n",
        "\n",
        " A123 : If Not A121/A122 : Car Or Other, Not In\n",
        "\n",
        " Attribute 6\n",
        " A124 : Unknown / No Property\n",
        "\n",
        "* other_installment_plans:\n",
        "\n",
        " A141:Bank\n",
        "\n",
        " A142:Stores\n",
        "\n",
        " A143:None\n",
        "\n",
        "* housing:\n",
        "\n",
        " A151 : Rent\n",
        "\n",
        " A152 : Own\n",
        "\n",
        " A153 : For Free\n",
        "\n",
        "* job:\n",
        "\n",
        " A171 : unemployed/ unskilled  - non-resident\n",
        "\n",
        " A172 : unskilled - resident\n",
        "\n",
        " A173 : skilled employee / official\n",
        "\n",
        " A174 : management/ self-employed/ highly qualified employee/ officer\n",
        "\n",
        "* telephone:\n",
        "\n",
        " A191 : None\n",
        "\n",
        " A192 : Yes, Registered Under The Customers Name\n",
        "\n",
        "* foreign_worker:\n",
        "\n",
        " A191 : None\n",
        "\n",
        " A192 : Yes, Registered Under The Customers Name\n",
        "\n",
        "\n",
        "# Variabel bertipe numerik, yaitu:\n",
        "\n",
        "* duration:\n",
        "\n",
        "Duration in Month\n",
        "* credit_amount:\n",
        "\n",
        "Credit (Loan) Amount\n",
        "* installment_rate:\n",
        "\n",
        " 0>10%\n",
        " 11% > 20 %\n",
        " 31% > 40%\n",
        " 41 > 50%\n",
        "\n",
        "* present_residence:\n",
        "\n",
        " 1: 0 > 2 year\n",
        "\n",
        " 2: 3 > 4 year\n",
        "\n",
        " 3: 5 > 6 years\n",
        "\n",
        " 4: 7 > … years\n",
        "\n",
        "* age:\n",
        "\n",
        "age in years\n",
        "* existing_credits:\n",
        "\n",
        " 1: 0 existing credits\n",
        "\n",
        " 2: 1 existing credits\n",
        "\n",
        " 3: 2 existing credits\n",
        "\n",
        " 4: 3 > … existing credits\n",
        "\n",
        "* dependents:\n",
        "\n",
        " 1 : yes\n",
        "\n",
        " 2 : no\n",
        "\n",
        "\n",
        "\n",
        "\n"
      ],
      "metadata": {
        "id": "v6OjRIsMIaoW"
      }
    },
    {
      "cell_type": "code",
      "source": [
        "df.describe()"
      ],
      "metadata": {
        "colab": {
          "base_uri": "https://localhost:8080/",
          "height": 300
        },
        "id": "kYJdXQBRIZxC",
        "outputId": "6ad9a8c6-3fd9-4d82-e7d9-fa4a623a77cb"
      },
      "execution_count": null,
      "outputs": [
        {
          "output_type": "execute_result",
          "data": {
            "text/plain": [
              "          duration  credit_amount  installment_rate  present_residence  \\\n",
              "count  1000.000000    1000.000000       1000.000000        1000.000000   \n",
              "mean     20.903000    3271.258000          2.973000           2.845000   \n",
              "std      12.058814    2822.736876          1.118715           1.103718   \n",
              "min       4.000000     250.000000          1.000000           1.000000   \n",
              "25%      12.000000    1365.500000          2.000000           2.000000   \n",
              "50%      18.000000    2319.500000          3.000000           3.000000   \n",
              "75%      24.000000    3972.250000          4.000000           4.000000   \n",
              "max      72.000000   18424.000000          4.000000           4.000000   \n",
              "\n",
              "               age  existing_credits   dependents  customer_type  \n",
              "count  1000.000000       1000.000000  1000.000000    1000.000000  \n",
              "mean     35.546000          1.407000     1.155000       1.300000  \n",
              "std      11.375469          0.577654     0.362086       0.458487  \n",
              "min      19.000000          1.000000     1.000000       1.000000  \n",
              "25%      27.000000          1.000000     1.000000       1.000000  \n",
              "50%      33.000000          1.000000     1.000000       1.000000  \n",
              "75%      42.000000          2.000000     1.000000       2.000000  \n",
              "max      75.000000          4.000000     2.000000       2.000000  "
            ],
            "text/html": [
              "\n",
              "  <div id=\"df-3880e89e-bb90-4826-98dc-12639b9d332b\" class=\"colab-df-container\">\n",
              "    <div>\n",
              "<style scoped>\n",
              "    .dataframe tbody tr th:only-of-type {\n",
              "        vertical-align: middle;\n",
              "    }\n",
              "\n",
              "    .dataframe tbody tr th {\n",
              "        vertical-align: top;\n",
              "    }\n",
              "\n",
              "    .dataframe thead th {\n",
              "        text-align: right;\n",
              "    }\n",
              "</style>\n",
              "<table border=\"1\" class=\"dataframe\">\n",
              "  <thead>\n",
              "    <tr style=\"text-align: right;\">\n",
              "      <th></th>\n",
              "      <th>duration</th>\n",
              "      <th>credit_amount</th>\n",
              "      <th>installment_rate</th>\n",
              "      <th>present_residence</th>\n",
              "      <th>age</th>\n",
              "      <th>existing_credits</th>\n",
              "      <th>dependents</th>\n",
              "      <th>customer_type</th>\n",
              "    </tr>\n",
              "  </thead>\n",
              "  <tbody>\n",
              "    <tr>\n",
              "      <th>count</th>\n",
              "      <td>1000.000000</td>\n",
              "      <td>1000.000000</td>\n",
              "      <td>1000.000000</td>\n",
              "      <td>1000.000000</td>\n",
              "      <td>1000.000000</td>\n",
              "      <td>1000.000000</td>\n",
              "      <td>1000.000000</td>\n",
              "      <td>1000.000000</td>\n",
              "    </tr>\n",
              "    <tr>\n",
              "      <th>mean</th>\n",
              "      <td>20.903000</td>\n",
              "      <td>3271.258000</td>\n",
              "      <td>2.973000</td>\n",
              "      <td>2.845000</td>\n",
              "      <td>35.546000</td>\n",
              "      <td>1.407000</td>\n",
              "      <td>1.155000</td>\n",
              "      <td>1.300000</td>\n",
              "    </tr>\n",
              "    <tr>\n",
              "      <th>std</th>\n",
              "      <td>12.058814</td>\n",
              "      <td>2822.736876</td>\n",
              "      <td>1.118715</td>\n",
              "      <td>1.103718</td>\n",
              "      <td>11.375469</td>\n",
              "      <td>0.577654</td>\n",
              "      <td>0.362086</td>\n",
              "      <td>0.458487</td>\n",
              "    </tr>\n",
              "    <tr>\n",
              "      <th>min</th>\n",
              "      <td>4.000000</td>\n",
              "      <td>250.000000</td>\n",
              "      <td>1.000000</td>\n",
              "      <td>1.000000</td>\n",
              "      <td>19.000000</td>\n",
              "      <td>1.000000</td>\n",
              "      <td>1.000000</td>\n",
              "      <td>1.000000</td>\n",
              "    </tr>\n",
              "    <tr>\n",
              "      <th>25%</th>\n",
              "      <td>12.000000</td>\n",
              "      <td>1365.500000</td>\n",
              "      <td>2.000000</td>\n",
              "      <td>2.000000</td>\n",
              "      <td>27.000000</td>\n",
              "      <td>1.000000</td>\n",
              "      <td>1.000000</td>\n",
              "      <td>1.000000</td>\n",
              "    </tr>\n",
              "    <tr>\n",
              "      <th>50%</th>\n",
              "      <td>18.000000</td>\n",
              "      <td>2319.500000</td>\n",
              "      <td>3.000000</td>\n",
              "      <td>3.000000</td>\n",
              "      <td>33.000000</td>\n",
              "      <td>1.000000</td>\n",
              "      <td>1.000000</td>\n",
              "      <td>1.000000</td>\n",
              "    </tr>\n",
              "    <tr>\n",
              "      <th>75%</th>\n",
              "      <td>24.000000</td>\n",
              "      <td>3972.250000</td>\n",
              "      <td>4.000000</td>\n",
              "      <td>4.000000</td>\n",
              "      <td>42.000000</td>\n",
              "      <td>2.000000</td>\n",
              "      <td>1.000000</td>\n",
              "      <td>2.000000</td>\n",
              "    </tr>\n",
              "    <tr>\n",
              "      <th>max</th>\n",
              "      <td>72.000000</td>\n",
              "      <td>18424.000000</td>\n",
              "      <td>4.000000</td>\n",
              "      <td>4.000000</td>\n",
              "      <td>75.000000</td>\n",
              "      <td>4.000000</td>\n",
              "      <td>2.000000</td>\n",
              "      <td>2.000000</td>\n",
              "    </tr>\n",
              "  </tbody>\n",
              "</table>\n",
              "</div>\n",
              "    <div class=\"colab-df-buttons\">\n",
              "\n",
              "  <div class=\"colab-df-container\">\n",
              "    <button class=\"colab-df-convert\" onclick=\"convertToInteractive('df-3880e89e-bb90-4826-98dc-12639b9d332b')\"\n",
              "            title=\"Convert this dataframe to an interactive table.\"\n",
              "            style=\"display:none;\">\n",
              "\n",
              "  <svg xmlns=\"http://www.w3.org/2000/svg\" height=\"24px\" viewBox=\"0 -960 960 960\">\n",
              "    <path d=\"M120-120v-720h720v720H120Zm60-500h600v-160H180v160Zm220 220h160v-160H400v160Zm0 220h160v-160H400v160ZM180-400h160v-160H180v160Zm440 0h160v-160H620v160ZM180-180h160v-160H180v160Zm440 0h160v-160H620v160Z\"/>\n",
              "  </svg>\n",
              "    </button>\n",
              "\n",
              "  <style>\n",
              "    .colab-df-container {\n",
              "      display:flex;\n",
              "      gap: 12px;\n",
              "    }\n",
              "\n",
              "    .colab-df-convert {\n",
              "      background-color: #E8F0FE;\n",
              "      border: none;\n",
              "      border-radius: 50%;\n",
              "      cursor: pointer;\n",
              "      display: none;\n",
              "      fill: #1967D2;\n",
              "      height: 32px;\n",
              "      padding: 0 0 0 0;\n",
              "      width: 32px;\n",
              "    }\n",
              "\n",
              "    .colab-df-convert:hover {\n",
              "      background-color: #E2EBFA;\n",
              "      box-shadow: 0px 1px 2px rgba(60, 64, 67, 0.3), 0px 1px 3px 1px rgba(60, 64, 67, 0.15);\n",
              "      fill: #174EA6;\n",
              "    }\n",
              "\n",
              "    .colab-df-buttons div {\n",
              "      margin-bottom: 4px;\n",
              "    }\n",
              "\n",
              "    [theme=dark] .colab-df-convert {\n",
              "      background-color: #3B4455;\n",
              "      fill: #D2E3FC;\n",
              "    }\n",
              "\n",
              "    [theme=dark] .colab-df-convert:hover {\n",
              "      background-color: #434B5C;\n",
              "      box-shadow: 0px 1px 3px 1px rgba(0, 0, 0, 0.15);\n",
              "      filter: drop-shadow(0px 1px 2px rgba(0, 0, 0, 0.3));\n",
              "      fill: #FFFFFF;\n",
              "    }\n",
              "  </style>\n",
              "\n",
              "    <script>\n",
              "      const buttonEl =\n",
              "        document.querySelector('#df-3880e89e-bb90-4826-98dc-12639b9d332b button.colab-df-convert');\n",
              "      buttonEl.style.display =\n",
              "        google.colab.kernel.accessAllowed ? 'block' : 'none';\n",
              "\n",
              "      async function convertToInteractive(key) {\n",
              "        const element = document.querySelector('#df-3880e89e-bb90-4826-98dc-12639b9d332b');\n",
              "        const dataTable =\n",
              "          await google.colab.kernel.invokeFunction('convertToInteractive',\n",
              "                                                    [key], {});\n",
              "        if (!dataTable) return;\n",
              "\n",
              "        const docLinkHtml = 'Like what you see? Visit the ' +\n",
              "          '<a target=\"_blank\" href=https://colab.research.google.com/notebooks/data_table.ipynb>data table notebook</a>'\n",
              "          + ' to learn more about interactive tables.';\n",
              "        element.innerHTML = '';\n",
              "        dataTable['output_type'] = 'display_data';\n",
              "        await google.colab.output.renderOutput(dataTable, element);\n",
              "        const docLink = document.createElement('div');\n",
              "        docLink.innerHTML = docLinkHtml;\n",
              "        element.appendChild(docLink);\n",
              "      }\n",
              "    </script>\n",
              "  </div>\n",
              "\n",
              "\n",
              "<div id=\"df-3f49f91c-745e-4395-89e6-7d49cdf5b314\">\n",
              "  <button class=\"colab-df-quickchart\" onclick=\"quickchart('df-3f49f91c-745e-4395-89e6-7d49cdf5b314')\"\n",
              "            title=\"Suggest charts\"\n",
              "            style=\"display:none;\">\n",
              "\n",
              "<svg xmlns=\"http://www.w3.org/2000/svg\" height=\"24px\"viewBox=\"0 0 24 24\"\n",
              "     width=\"24px\">\n",
              "    <g>\n",
              "        <path d=\"M19 3H5c-1.1 0-2 .9-2 2v14c0 1.1.9 2 2 2h14c1.1 0 2-.9 2-2V5c0-1.1-.9-2-2-2zM9 17H7v-7h2v7zm4 0h-2V7h2v10zm4 0h-2v-4h2v4z\"/>\n",
              "    </g>\n",
              "</svg>\n",
              "  </button>\n",
              "\n",
              "<style>\n",
              "  .colab-df-quickchart {\n",
              "      --bg-color: #E8F0FE;\n",
              "      --fill-color: #1967D2;\n",
              "      --hover-bg-color: #E2EBFA;\n",
              "      --hover-fill-color: #174EA6;\n",
              "      --disabled-fill-color: #AAA;\n",
              "      --disabled-bg-color: #DDD;\n",
              "  }\n",
              "\n",
              "  [theme=dark] .colab-df-quickchart {\n",
              "      --bg-color: #3B4455;\n",
              "      --fill-color: #D2E3FC;\n",
              "      --hover-bg-color: #434B5C;\n",
              "      --hover-fill-color: #FFFFFF;\n",
              "      --disabled-bg-color: #3B4455;\n",
              "      --disabled-fill-color: #666;\n",
              "  }\n",
              "\n",
              "  .colab-df-quickchart {\n",
              "    background-color: var(--bg-color);\n",
              "    border: none;\n",
              "    border-radius: 50%;\n",
              "    cursor: pointer;\n",
              "    display: none;\n",
              "    fill: var(--fill-color);\n",
              "    height: 32px;\n",
              "    padding: 0;\n",
              "    width: 32px;\n",
              "  }\n",
              "\n",
              "  .colab-df-quickchart:hover {\n",
              "    background-color: var(--hover-bg-color);\n",
              "    box-shadow: 0 1px 2px rgba(60, 64, 67, 0.3), 0 1px 3px 1px rgba(60, 64, 67, 0.15);\n",
              "    fill: var(--button-hover-fill-color);\n",
              "  }\n",
              "\n",
              "  .colab-df-quickchart-complete:disabled,\n",
              "  .colab-df-quickchart-complete:disabled:hover {\n",
              "    background-color: var(--disabled-bg-color);\n",
              "    fill: var(--disabled-fill-color);\n",
              "    box-shadow: none;\n",
              "  }\n",
              "\n",
              "  .colab-df-spinner {\n",
              "    border: 2px solid var(--fill-color);\n",
              "    border-color: transparent;\n",
              "    border-bottom-color: var(--fill-color);\n",
              "    animation:\n",
              "      spin 1s steps(1) infinite;\n",
              "  }\n",
              "\n",
              "  @keyframes spin {\n",
              "    0% {\n",
              "      border-color: transparent;\n",
              "      border-bottom-color: var(--fill-color);\n",
              "      border-left-color: var(--fill-color);\n",
              "    }\n",
              "    20% {\n",
              "      border-color: transparent;\n",
              "      border-left-color: var(--fill-color);\n",
              "      border-top-color: var(--fill-color);\n",
              "    }\n",
              "    30% {\n",
              "      border-color: transparent;\n",
              "      border-left-color: var(--fill-color);\n",
              "      border-top-color: var(--fill-color);\n",
              "      border-right-color: var(--fill-color);\n",
              "    }\n",
              "    40% {\n",
              "      border-color: transparent;\n",
              "      border-right-color: var(--fill-color);\n",
              "      border-top-color: var(--fill-color);\n",
              "    }\n",
              "    60% {\n",
              "      border-color: transparent;\n",
              "      border-right-color: var(--fill-color);\n",
              "    }\n",
              "    80% {\n",
              "      border-color: transparent;\n",
              "      border-right-color: var(--fill-color);\n",
              "      border-bottom-color: var(--fill-color);\n",
              "    }\n",
              "    90% {\n",
              "      border-color: transparent;\n",
              "      border-bottom-color: var(--fill-color);\n",
              "    }\n",
              "  }\n",
              "</style>\n",
              "\n",
              "  <script>\n",
              "    async function quickchart(key) {\n",
              "      const quickchartButtonEl =\n",
              "        document.querySelector('#' + key + ' button');\n",
              "      quickchartButtonEl.disabled = true;  // To prevent multiple clicks.\n",
              "      quickchartButtonEl.classList.add('colab-df-spinner');\n",
              "      try {\n",
              "        const charts = await google.colab.kernel.invokeFunction(\n",
              "            'suggestCharts', [key], {});\n",
              "      } catch (error) {\n",
              "        console.error('Error during call to suggestCharts:', error);\n",
              "      }\n",
              "      quickchartButtonEl.classList.remove('colab-df-spinner');\n",
              "      quickchartButtonEl.classList.add('colab-df-quickchart-complete');\n",
              "    }\n",
              "    (() => {\n",
              "      let quickchartButtonEl =\n",
              "        document.querySelector('#df-3f49f91c-745e-4395-89e6-7d49cdf5b314 button');\n",
              "      quickchartButtonEl.style.display =\n",
              "        google.colab.kernel.accessAllowed ? 'block' : 'none';\n",
              "    })();\n",
              "  </script>\n",
              "</div>\n",
              "\n",
              "    </div>\n",
              "  </div>\n"
            ],
            "application/vnd.google.colaboratory.intrinsic+json": {
              "type": "dataframe",
              "summary": "{\n  \"name\": \"df\",\n  \"rows\": 8,\n  \"fields\": [\n    {\n      \"column\": \"duration\",\n      \"properties\": {\n        \"dtype\": \"number\",\n        \"std\": 345.9492794534647,\n        \"min\": 4.0,\n        \"max\": 1000.0,\n        \"num_unique_values\": 8,\n        \"samples\": [\n          20.903,\n          18.0,\n          1000.0\n        ],\n        \"semantic_type\": \"\",\n        \"description\": \"\"\n      }\n    },\n    {\n      \"column\": \"credit_amount\",\n      \"properties\": {\n        \"dtype\": \"number\",\n        \"std\": 5886.3378690311465,\n        \"min\": 250.0,\n        \"max\": 18424.0,\n        \"num_unique_values\": 8,\n        \"samples\": [\n          3271.258,\n          2319.5,\n          1000.0\n        ],\n        \"semantic_type\": \"\",\n        \"description\": \"\"\n      }\n    },\n    {\n      \"column\": \"installment_rate\",\n      \"properties\": {\n        \"dtype\": \"number\",\n        \"std\": 352.64151117276157,\n        \"min\": 1.0,\n        \"max\": 1000.0,\n        \"num_unique_values\": 7,\n        \"samples\": [\n          1000.0,\n          2.973,\n          3.0\n        ],\n        \"semantic_type\": \"\",\n        \"description\": \"\"\n      }\n    },\n    {\n      \"column\": \"present_residence\",\n      \"properties\": {\n        \"dtype\": \"number\",\n        \"std\": 352.64872509644107,\n        \"min\": 1.0,\n        \"max\": 1000.0,\n        \"num_unique_values\": 7,\n        \"samples\": [\n          1000.0,\n          2.845,\n          3.0\n        ],\n        \"semantic_type\": \"\",\n        \"description\": \"\"\n      }\n    },\n    {\n      \"column\": \"age\",\n      \"properties\": {\n        \"dtype\": \"number\",\n        \"std\": 341.8132734342618,\n        \"min\": 11.375468574317512,\n        \"max\": 1000.0,\n        \"num_unique_values\": 8,\n        \"samples\": [\n          35.546,\n          33.0,\n          1000.0\n        ],\n        \"semantic_type\": \"\",\n        \"description\": \"\"\n      }\n    },\n    {\n      \"column\": \"existing_credits\",\n      \"properties\": {\n        \"dtype\": \"number\",\n        \"std\": 353.0002158816418,\n        \"min\": 0.5776544682461002,\n        \"max\": 1000.0,\n        \"num_unique_values\": 6,\n        \"samples\": [\n          1000.0,\n          1.407,\n          4.0\n        ],\n        \"semantic_type\": \"\",\n        \"description\": \"\"\n      }\n    },\n    {\n      \"column\": \"dependents\",\n      \"properties\": {\n        \"dtype\": \"number\",\n        \"std\": 353.1740021102215,\n        \"min\": 0.36208577175319395,\n        \"max\": 1000.0,\n        \"num_unique_values\": 5,\n        \"samples\": [\n          1.155,\n          2.0,\n          0.36208577175319395\n        ],\n        \"semantic_type\": \"\",\n        \"description\": \"\"\n      }\n    },\n    {\n      \"column\": \"customer_type\",\n      \"properties\": {\n        \"dtype\": \"number\",\n        \"std\": 353.11141293326966,\n        \"min\": 0.4584868702702512,\n        \"max\": 1000.0,\n        \"num_unique_values\": 5,\n        \"samples\": [\n          1.3,\n          2.0,\n          0.4584868702702512\n        ],\n        \"semantic_type\": \"\",\n        \"description\": \"\"\n      }\n    }\n  ]\n}"
            }
          },
          "metadata": {},
          "execution_count": 7
        }
      ]
    },
    {
      "cell_type": "code",
      "source": [
        "#cek nilai kosong\n",
        "df.isnull().sum()"
      ],
      "metadata": {
        "colab": {
          "base_uri": "https://localhost:8080/"
        },
        "id": "-HCJ8ai-J75A",
        "outputId": "9c8365fc-e357-4a53-d5c1-03ddae7127b7"
      },
      "execution_count": null,
      "outputs": [
        {
          "output_type": "execute_result",
          "data": {
            "text/plain": [
              "checking_account_status    0\n",
              "duration                   0\n",
              "credit_history             0\n",
              "purpose                    0\n",
              "credit_amount              0\n",
              "savings                    0\n",
              "present_employment         0\n",
              "installment_rate           0\n",
              "personal                   0\n",
              "other_debtors              0\n",
              "present_residence          0\n",
              "property                   0\n",
              "age                        0\n",
              "other_installment_plans    0\n",
              "housing                    0\n",
              "existing_credits           0\n",
              "job                        0\n",
              "dependents                 0\n",
              "telephone                  0\n",
              "foreign_worker             0\n",
              "customer_type              0\n",
              "dtype: int64"
            ]
          },
          "metadata": {},
          "execution_count": 8
        }
      ]
    },
    {
      "cell_type": "code",
      "source": [
        "df.isna().sum()"
      ],
      "metadata": {
        "colab": {
          "base_uri": "https://localhost:8080/"
        },
        "id": "NxEEw78uKDNZ",
        "outputId": "f3c7d79a-77c5-4034-a2ff-2ac621b72e09"
      },
      "execution_count": null,
      "outputs": [
        {
          "output_type": "execute_result",
          "data": {
            "text/plain": [
              "checking_account_status    0\n",
              "duration                   0\n",
              "credit_history             0\n",
              "purpose                    0\n",
              "credit_amount              0\n",
              "savings                    0\n",
              "present_employment         0\n",
              "installment_rate           0\n",
              "personal                   0\n",
              "other_debtors              0\n",
              "present_residence          0\n",
              "property                   0\n",
              "age                        0\n",
              "other_installment_plans    0\n",
              "housing                    0\n",
              "existing_credits           0\n",
              "job                        0\n",
              "dependents                 0\n",
              "telephone                  0\n",
              "foreign_worker             0\n",
              "customer_type              0\n",
              "dtype: int64"
            ]
          },
          "metadata": {},
          "execution_count": 9
        }
      ]
    },
    {
      "cell_type": "markdown",
      "source": [
        "Data tidak memiliki *null value*"
      ],
      "metadata": {
        "id": "jx9lCT51KWva"
      }
    },
    {
      "cell_type": "code",
      "source": [
        "plt.figure(figsize=(4, 3))\n",
        "sns.boxplot(x='variable',y='value',data=pd.melt(df[['duration']]))\n",
        "plt.show()"
      ],
      "metadata": {
        "colab": {
          "base_uri": "https://localhost:8080/",
          "height": 311
        },
        "id": "4mwU5peBKamR",
        "outputId": "75ee6985-a1db-4ab3-a5ab-bec2ecfb305e"
      },
      "execution_count": null,
      "outputs": [
        {
          "output_type": "display_data",
          "data": {
            "text/plain": [
              "<Figure size 400x300 with 1 Axes>"
            ],
            "image/png": "[encoded data removed]"
          },
          "metadata": {}
        }
      ]
    },
    {
      "cell_type": "code",
      "source": [
        "plt.figure(figsize=(4, 3))\n",
        "sns.boxplot(x='variable',y='value',data=pd.melt(df[['credit_amount']]))\n",
        "plt.show()"
      ],
      "metadata": {
        "colab": {
          "base_uri": "https://localhost:8080/",
          "height": 311
        },
        "id": "Lm8iQgWtLQqG",
        "outputId": "5e143c2b-0dce-4470-cd5a-91d2459e2691"
      },
      "execution_count": null,
      "outputs": [
        {
          "output_type": "display_data",
          "data": {
            "text/plain": [
              "<Figure size 400x300 with 1 Axes>"
            ],
            "image/png": "[encoded data removed]"
          },
          "metadata": {}
        }
      ]
    },
    {
      "cell_type": "code",
      "source": [
        "plt.figure(figsize=(4, 3))\n",
        "sns.boxplot(x='variable',y='value',data=pd.melt(df[['age']]))\n",
        "plt.show()"
      ],
      "metadata": {
        "colab": {
          "base_uri": "https://localhost:8080/",
          "height": 311
        },
        "id": "WaN-xJORLS6J",
        "outputId": "e93c167f-98aa-4a18-93e9-1d070c555906"
      },
      "execution_count": null,
      "outputs": [
        {
          "output_type": "display_data",
          "data": {
            "text/plain": [
              "<Figure size 400x300 with 1 Axes>"
            ],
            "image/png": "[encoded data removed]"
          },
          "metadata": {}
        }
      ]
    },
    {
      "cell_type": "markdown",
      "source": [
        "berdasarkan hasil boxplot,ada beberapa outlier pada variabel age(7),credit amount(25) dan duration(14),outlier yang ditampikaan bukan merupakan kesalahan pengukuran atau entri data yang salah, melihat karakteristik random foret yang tahan terhadap outlier,maka data tetap dipertahankan."
      ],
      "metadata": {
        "id": "3jG_DofSLLs5"
      }
    },
    {
      "cell_type": "code",
      "source": [
        "# Praproses data non-numerik\n",
        "label_encoder = LabelEncoder()\n",
        "non_numeric_columns = df.select_dtypes(exclude=['number']).columns\n",
        "for column in non_numeric_columns:\n",
        "    df[column] = label_encoder.fit_transform(df[column])"
      ],
      "metadata": {
        "id": "HEqphKSMLAzr"
      },
      "execution_count": null,
      "outputs": []
    },
    {
      "cell_type": "markdown",
      "source": [
        "meskipun random forest tahan terhadap nilai bertipe kategorikal,pelabelan tetap harus dilakukan karena penggunaan teknik resampling perlu merubah data kategorikal menjadi numerik,karena, dalam praktiknya, penggunaan SMOTE melibatkan data yang terdiri dari variabel numerik karena konsep jarak (Euclidean distance) dalam mencari tetangga terdekat lebih mudah diterapkan pada data numerik."
      ],
      "metadata": {
        "id": "X-DyYr-6L2n3"
      }
    },
    {
      "cell_type": "code",
      "source": [
        "from scipy.stats import f_oneway\n",
        "\n",
        "# Kelompokkan data berdasarkan nilai customer_type\n",
        "grouped_data = [df[df['customer_type'] == class_name] for class_name in df['customer_type'].unique()]\n",
        "\n",
        "# Lakukan uji ANOVA untuk setiap fitur\n",
        "for feature in df.columns:\n",
        "    if feature != 'customer_type':  # Skip variabel target\n",
        "        f_statistic, p_value = f_oneway(*[group[feature] for group in grouped_data])\n",
        "        print(f\"Feature: {feature}, F-statistic: {f_statistic}, p-value: {p_value}\")\n"
      ],
      "metadata": {
        "colab": {
          "base_uri": "https://localhost:8080/"
        },
        "id": "6j3Q69oQLz7a",
        "outputId": "5bf1b2d2-8843-467c-b106-5333747428b7"
      },
      "execution_count": null,
      "outputs": [
        {
          "output_type": "stream",
          "name": "stdout",
          "text": [
            "Feature: checking_account_status, F-statistic: 140.0922814512124, p-value: 2.4416618064128288e-30\n",
            "Feature: duration, F-statistic: 48.333790132789034, p-value: 6.488049877187189e-12\n",
            "Feature: credit_history, F-statistic: 55.12304460141705, p-value: 2.4230600689647656e-13\n",
            "Feature: purpose, F-statistic: 0.0022886225138613594, p-value: 0.9618536879893452\n",
            "Feature: credit_amount, F-statistic: 24.482365876282, p-value: 8.797572373533373e-07\n",
            "Feature: savings, F-statistic: 33.01357294248414, p-value: 1.2147983456827244e-08\n",
            "Feature: present_employment, F-statistic: 13.612738944563477, p-value: 0.0002367939320576643\n",
            "Feature: installment_rate, F-statistic: 5.259417069804217, p-value: 0.022035486306960176\n",
            "Feature: personal, F-statistic: 7.821743479677289, p-value: 0.005261326205666935\n",
            "Feature: other_debtors, F-statistic: 0.6309920680537993, p-value: 0.427180494598151\n",
            "Feature: present_residence, F-statistic: 0.008786500366837886, p-value: 0.9253374212983783\n",
            "Feature: property, F-statistic: 20.71888286374247, p-value: 5.97405808733942e-06\n",
            "Feature: age, F-statistic: 8.356994513183928, p-value: 0.003925339398278295\n",
            "Feature: other_installment_plans, F-statistic: 12.188659589004589, p-value: 0.00050185291702098\n",
            "Feature: housing, F-statistic: 0.37246292826575106, p-value: 0.5418037557357928\n",
            "Feature: existing_credits, F-statistic: 2.09165226826688, p-value: 0.1484197860805063\n",
            "Feature: job, F-statistic: 1.0705843719213746, p-value: 0.30106413708867547\n",
            "Feature: dependents, F-statistic: 0.009071242887527468, p-value: 0.9241408780993021\n",
            "Feature: telephone, F-statistic: 1.3288905963475346, p-value: 0.2492787112324193\n",
            "Feature: foreign_worker, F-statistic: 6.76917425761225, p-value: 0.00941192007530607\n"
          ]
        }
      ]
    },
    {
      "cell_type": "markdown",
      "source": [
        "Analisis F-statistik dan p-value menunjukkan bahwa fitur seperti *credit_history, duration, savings, checking_account_status, purpose, credit_amount, present_employment, installment rate, personal, property, age, other_installment_plans, *dan *foreingn_worker* memiliki hubungan yang kuat dan signifikan dengan kelayakan kredit (customer_credit). Fitur lain seperti *present_residence, other_debtors, housing, existing_credits, job, dependents,* dan *telephone* memiliki hubungan yang lebih lemah"
      ],
      "metadata": {
        "id": "35xDSj9GMJ_6"
      }
    },
    {
      "cell_type": "code",
      "source": [
        "# Mengganti nilai 1 dengan 0 dan nilai 2 dengan 1 di kolom 'customer_type'\n",
        "df['customer_type'] = df['customer_type'].replace({1: 0, 2: 1})"
      ],
      "metadata": {
        "id": "1qW4XA-YXRBq"
      },
      "execution_count": null,
      "outputs": []
    },
    {
      "cell_type": "code",
      "source": [
        "df['customer_type'].value_counts()"
      ],
      "metadata": {
        "colab": {
          "base_uri": "https://localhost:8080/"
        },
        "id": "4D4AmUr9MO0z",
        "outputId": "4119139e-9edf-4450-b52d-6ce7f4dd9e04"
      },
      "execution_count": null,
      "outputs": [
        {
          "output_type": "execute_result",
          "data": {
            "text/plain": [
              "customer_type\n",
              "0    700\n",
              "1    300\n",
              "Name: count, dtype: int64"
            ]
          },
          "metadata": {},
          "execution_count": 16
        }
      ]
    },
    {
      "cell_type": "code",
      "source": [
        "# Memisahkan fitur dan target\n",
        "X = df.drop('customer_type', axis=1)\n",
        "y = df['customer_type']"
      ],
      "metadata": {
        "id": "3UZvLmmgXykE"
      },
      "execution_count": null,
      "outputs": []
    },
    {
      "cell_type": "code",
      "source": [
        "# Menerapkan SMOTE\n",
        "smote = SMOTE(random_state=42)\n",
        "X_smote, y_smote = smote.fit_resample(X, y)"
      ],
      "metadata": {
        "id": "efrO0el0XIrC"
      },
      "execution_count": null,
      "outputs": []
    },
    {
      "cell_type": "code",
      "source": [
        "y_smote.value_counts()"
      ],
      "metadata": {
        "colab": {
          "base_uri": "https://localhost:8080/"
        },
        "id": "tVdoa-AcYB_o",
        "outputId": "764776cf-aacb-4fcc-c5cf-33b8553412cc"
      },
      "execution_count": null,
      "outputs": [
        {
          "output_type": "execute_result",
          "data": {
            "text/plain": [
              "customer_type\n",
              "0    700\n",
              "1    700\n",
              "Name: count, dtype: int64"
            ]
          },
          "metadata": {},
          "execution_count": 19
        }
      ]
    },
    {
      "cell_type": "markdown",
      "source": [
        "# ***Modelling(sebelum menggunakan teknik SMOTE)***"
      ],
      "metadata": {
        "id": "w6PHRccnYIk6"
      }
    },
    {
      "cell_type": "code",
      "source": [
        "# Inisialisasi model RandomForestClassifier\n",
        "model = RandomForestClassifier(n_estimators=100)  # Sesuaikan hiperparameter sesuai kebutuhan\n",
        "model.fit(X, y)"
      ],
      "metadata": {
        "colab": {
          "base_uri": "https://localhost:8080/",
          "height": 75
        },
        "id": "qM9khJ6JYIL_",
        "outputId": "8a338d69-5c13-40b9-bbab-3708407a7009"
      },
      "execution_count": null,
      "outputs": [
        {
          "output_type": "execute_result",
          "data": {
            "text/plain": [
              "RandomForestClassifier()"
            ],
            "text/html": [
              "<style>#sk-container-id-1 {color: black;background-color: white;}#sk-container-id-1 pre{padding: 0;}#sk-container-id-1 div.sk-toggleable {background-color: white;}#sk-container-id-1 label.sk-toggleable__label {cursor: pointer;display: block;width: 100%;margin-bottom: 0;padding: 0.3em;box-sizing: border-box;text-align: center;}#sk-container-id-1 label.sk-toggleable__label-arrow:before {content: \"▸\";float: left;margin-right: 0.25em;color: #696969;}#sk-container-id-1 label.sk-toggleable__label-arrow:hover:before {color: black;}#sk-container-id-1 div.sk-estimator:hover label.sk-toggleable__label-arrow:before {color: black;}#sk-container-id-1 div.sk-toggleable__content {max-height: 0;max-width: 0;overflow: hidden;text-align: left;background-color: #f0f8ff;}#sk-container-id-1 div.sk-toggleable__content pre {margin: 0.2em;color: black;border-radius: 0.25em;background-color: #f0f8ff;}#sk-container-id-1 input.sk-toggleable__control:checked~div.sk-toggleable__content {max-height: 200px;max-width: 100%;overflow: auto;}#sk-container-id-1 input.sk-toggleable__control:checked~label.sk-toggleable__label-arrow:before {content: \"▾\";}#sk-container-id-1 div.sk-estimator input.sk-toggleable__control:checked~label.sk-toggleable__label {background-color: #d4ebff;}#sk-container-id-1 div.sk-label input.sk-toggleable__control:checked~label.sk-toggleable__label {background-color: #d4ebff;}#sk-container-id-1 input.sk-hidden--visually {border: 0;clip: rect(1px 1px 1px 1px);clip: rect(1px, 1px, 1px, 1px);height: 1px;margin: -1px;overflow: hidden;padding: 0;position: absolute;width: 1px;}#sk-container-id-1 div.sk-estimator {font-family: monospace;background-color: #f0f8ff;border: 1px dotted black;border-radius: 0.25em;box-sizing: border-box;margin-bottom: 0.5em;}#sk-container-id-1 div.sk-estimator:hover {background-color: #d4ebff;}#sk-container-id-1 div.sk-parallel-item::after {content: \"\";width: 100%;border-bottom: 1px solid gray;flex-grow: 1;}#sk-container-id-1 div.sk-label:hover label.sk-toggleable__label {background-color: #d4ebff;}#sk-container-id-1 div.sk-serial::before {content: \"\";position: absolute;border-left: 1px solid gray;box-sizing: border-box;top: 0;bottom: 0;left: 50%;z-index: 0;}#sk-container-id-1 div.sk-serial {display: flex;flex-direction: column;align-items: center;background-color: white;padding-right: 0.2em;padding-left: 0.2em;position: relative;}#sk-container-id-1 div.sk-item {position: relative;z-index: 1;}#sk-container-id-1 div.sk-parallel {display: flex;align-items: stretch;justify-content: center;background-color: white;position: relative;}#sk-container-id-1 div.sk-item::before, #sk-container-id-1 div.sk-parallel-item::before {content: \"\";position: absolute;border-left: 1px solid gray;box-sizing: border-box;top: 0;bottom: 0;left: 50%;z-index: -1;}#sk-container-id-1 div.sk-parallel-item {display: flex;flex-direction: column;z-index: 1;position: relative;background-color: white;}#sk-container-id-1 div.sk-parallel-item:first-child::after {align-self: flex-end;width: 50%;}#sk-container-id-1 div.sk-parallel-item:last-child::after {align-self: flex-start;width: 50%;}#sk-container-id-1 div.sk-parallel-item:only-child::after {width: 0;}#sk-container-id-1 div.sk-dashed-wrapped {border: 1px dashed gray;margin: 0 0.4em 0.5em 0.4em;box-sizing: border-box;padding-bottom: 0.4em;background-color: white;}#sk-container-id-1 div.sk-label label {font-family: monospace;font-weight: bold;display: inline-block;line-height: 1.2em;}#sk-container-id-1 div.sk-label-container {text-align: center;}#sk-container-id-1 div.sk-container {/* jupyter's `normalize.less` sets `[hidden] { display: none; }` but bootstrap.min.css set `[hidden] { display: none !important; }` so we also need the `!important` here to be able to override the default hidden behavior on the sphinx rendered scikit-learn.org. See: https://github.com/scikit-learn/scikit-learn/issues/21755 */display: inline-block !important;position: relative;}#sk-container-id-1 div.sk-text-repr-fallback {display: none;}</style><div id=\"sk-container-id-1\" class=\"sk-top-container\"><div class=\"sk-text-repr-fallback\"><pre>RandomForestClassifier()</pre><b>In a Jupyter environment, please rerun this cell to show the HTML representation or trust the notebook. <br />On GitHub, the HTML representation is unable to render, please try loading this page with nbviewer.org.</b></div><div class=\"sk-container\" hidden><div class=\"sk-item\"><div class=\"sk-estimator sk-toggleable\"><input class=\"sk-toggleable__control sk-hidden--visually\" id=\"sk-estimator-id-1\" type=\"checkbox\" checked><label for=\"sk-estimator-id-1\" class=\"sk-toggleable__label sk-toggleable__label-arrow\">RandomForestClassifier</label><div class=\"sk-toggleable__content\"><pre>RandomForestClassifier()</pre></div></div></div></div></div>"
            ]
          },
          "metadata": {},
          "execution_count": 20
        }
      ]
    },
    {
      "cell_type": "code",
      "source": [
        "# Inisialisasi RFE dengan model RandomForestClassifier\n",
        "rfe = RFE(model)\n",
        "\n",
        "# Melakukan seleksi fitur\n",
        "X_nonsmote_rfe_selected = rfe.fit_transform(X,y)\n"
      ],
      "metadata": {
        "id": "wqlWebX0YZPK"
      },
      "execution_count": null,
      "outputs": []
    },
    {
      "cell_type": "code",
      "source": [
        "# Menampilkan fitur yang dipilih oleh RFE\n",
        "selected_features = X.columns[rfe.support_]\n",
        "print(\"Fitur yang dipilih oleh RFE:\", selected_features)"
      ],
      "metadata": {
        "colab": {
          "base_uri": "https://localhost:8080/"
        },
        "id": "kEtpE41rYdrp",
        "outputId": "a3abc247-ead2-4b09-ae00-67c8e59ece76"
      },
      "execution_count": null,
      "outputs": [
        {
          "output_type": "stream",
          "name": "stdout",
          "text": [
            "Fitur yang dipilih oleh RFE: Index(['checking_account_status', 'duration', 'credit_history', 'purpose',\n",
            "       'credit_amount', 'savings', 'present_employment', 'present_residence',\n",
            "       'property', 'age'],\n",
            "      dtype='object')\n"
          ]
        }
      ]
    },
    {
      "cell_type": "code",
      "source": [],
      "metadata": {
        "id": "rWYlaew0Ylbv"
      },
      "execution_count": null,
      "outputs": []
    },
    {
      "cell_type": "markdown",
      "source": [
        "# ***Evaluation (sebelum menggunakan teknik SMOTE)***"
      ],
      "metadata": {
        "id": "IuDVgHT_Y_41"
      }
    },
    {
      "cell_type": "code",
      "source": [
        "# Melakukan cross-validation\n",
        "# Cross-validation\n",
        "kfold = KFold(n_splits=10)\n",
        "results = cross_validate(estimator=model,\n",
        "                         X=X_nonsmote_rfe_selected,\n",
        "                         y=y,\n",
        "                         cv=kfold)"
      ],
      "metadata": {
        "id": "aGfol7GYY4vU"
      },
      "execution_count": null,
      "outputs": []
    },
    {
      "cell_type": "code",
      "source": [
        "# Memprediksi target\n",
        "y_pred = cross_val_predict(model, X_nonsmote_rfe_selected, y, cv=10)"
      ],
      "metadata": {
        "id": "X-M_4iM7ZOT5"
      },
      "execution_count": null,
      "outputs": []
    },
    {
      "cell_type": "code",
      "source": [
        "# Confusion matrix\n",
        "conf_mat = confusion_matrix(y, y_pred)\n",
        "sns.heatmap(conf_mat, annot=True, fmt=\"d\")\n",
        "plt.title('Random Forest in Confusion Matrix', fontsize=14)\n",
        "plt.xlabel('true label', fontsize=12)\n",
        "plt.ylabel('predicted label', fontsize=12)\n",
        "plt.show()"
      ],
      "metadata": {
        "colab": {
          "base_uri": "https://localhost:8080/",
          "height": 477
        },
        "id": "x6iQCVSDbKLm",
        "outputId": "c4255a3d-f86c-4728-c09b-812d28028e89"
      },
      "execution_count": null,
      "outputs": [
        {
          "output_type": "display_data",
          "data": {
            "text/plain": [
              "<Figure size 640x480 with 2 Axes>"
            ],
            "image/png": "[encoded data removed]"
          },
          "metadata": {}
        }
      ]
    },
    {
      "cell_type": "code",
      "source": [
        "# Menghitung TP, TN, FP, FN\n",
        "TP = conf_mat[1, 1]\n",
        "TN = conf_mat[0, 0]\n",
        "FP = conf_mat[0, 1]\n",
        "FN = conf_mat[1, 0]\n",
        "# Menampilkan TP, TN, FP, FN\n",
        "print(\"True Positives (TP):\", TP)\n",
        "print(\"True Negatives (TN):\", TN)\n",
        "print(\"False Positives (FP):\", FP)\n",
        "print(\"False Negatives (FN):\", FN)"
      ],
      "metadata": {
        "colab": {
          "base_uri": "https://localhost:8080/"
        },
        "id": "I7I-XhjrbYzw",
        "outputId": "625c5eb1-e143-4073-dcbb-4788a91bb53d"
      },
      "execution_count": null,
      "outputs": [
        {
          "output_type": "stream",
          "name": "stdout",
          "text": [
            "True Positives (TP): 143\n",
            "True Negatives (TN): 630\n",
            "False Positives (FP): 70\n",
            "False Negatives (FN): 157\n"
          ]
        }
      ]
    },
    {
      "cell_type": "code",
      "source": [
        "print(classification_report(y, y_pred))"
      ],
      "metadata": {
        "colab": {
          "base_uri": "https://localhost:8080/"
        },
        "id": "i3uaVTMFbgws",
        "outputId": "36e9270f-5b61-43c5-a79d-8f51b5154edd"
      },
      "execution_count": null,
      "outputs": [
        {
          "output_type": "stream",
          "name": "stdout",
          "text": [
            "              precision    recall  f1-score   support\n",
            "\n",
            "           0       0.80      0.90      0.85       700\n",
            "           1       0.67      0.48      0.56       300\n",
            "\n",
            "    accuracy                           0.77      1000\n",
            "   macro avg       0.74      0.69      0.70      1000\n",
            "weighted avg       0.76      0.77      0.76      1000\n",
            "\n"
          ]
        }
      ]
    },
    {
      "cell_type": "code",
      "source": [
        "# Visualisasi Kurva ROC\n",
        "from sklearn.metrics import roc_curve, auc\n",
        "fpr, tpr, thresholds = roc_curve(y, y_pred)\n",
        "auc_value = auc(fpr, tpr)\n",
        "\n",
        "plt.figure(figsize=(6, 4))\n",
        "plt.plot(fpr, tpr, label='Kurva ROC (AUC: {:.2f})'.format(auc_value))\n",
        "plt.plot([0, 1], [0, 1], 'k--', label='Random Classifier')\n",
        "plt.xlabel('False Positive Rate (FPR)')\n",
        "plt.ylabel('True Positive Rate (TPR)')\n",
        "plt.title('Receiver Operating Characteristic (ROC)')\n",
        "plt.legend(loc='lower right')\n",
        "plt.grid(True)\n",
        "plt.show()"
      ],
      "metadata": {
        "colab": {
          "base_uri": "https://localhost:8080/",
          "height": 410
        },
        "id": "QJTrsMJ-b_O6",
        "outputId": "0495c191-4bb5-438d-f3d6-b2efd60795c0"
      },
      "execution_count": null,
      "outputs": [
        {
          "output_type": "display_data",
          "data": {
            "text/plain": [
              "<Figure size 600x400 with 1 Axes>"
            ],
            "image/png": "[encoded data removed]"
          },
          "metadata": {}
        }
      ]
    },
    {
      "cell_type": "markdown",
      "source": [
        "# ***Modelling(setelah menggunakan teknik SMOTE)***"
      ],
      "metadata": {
        "id": "pCwij0QgdGZ5"
      }
    },
    {
      "cell_type": "code",
      "source": [
        "# Inisialisasi model RandomForestClassifier\n",
        "model2 = RandomForestClassifier(n_estimators=100)  # Sesuaikan hiperparameter sesuai kebutuhan\n",
        "model2.fit(X_smote, y_smote)"
      ],
      "metadata": {
        "colab": {
          "base_uri": "https://localhost:8080/",
          "height": 75
        },
        "id": "wSgb07mNdhwh",
        "outputId": "09826bde-373a-4ae2-e9fc-f3bb8e7c18dc"
      },
      "execution_count": null,
      "outputs": [
        {
          "output_type": "execute_result",
          "data": {
            "text/plain": [
              "RandomForestClassifier()"
            ],
            "text/html": [
              "<style>#sk-container-id-2 {color: black;background-color: white;}#sk-container-id-2 pre{padding: 0;}#sk-container-id-2 div.sk-toggleable {background-color: white;}#sk-container-id-2 label.sk-toggleable__label {cursor: pointer;display: block;width: 100%;margin-bottom: 0;padding: 0.3em;box-sizing: border-box;text-align: center;}#sk-container-id-2 label.sk-toggleable__label-arrow:before {content: \"▸\";float: left;margin-right: 0.25em;color: #696969;}#sk-container-id-2 label.sk-toggleable__label-arrow:hover:before {color: black;}#sk-container-id-2 div.sk-estimator:hover label.sk-toggleable__label-arrow:before {color: black;}#sk-container-id-2 div.sk-toggleable__content {max-height: 0;max-width: 0;overflow: hidden;text-align: left;background-color: #f0f8ff;}#sk-container-id-2 div.sk-toggleable__content pre {margin: 0.2em;color: black;border-radius: 0.25em;background-color: #f0f8ff;}#sk-container-id-2 input.sk-toggleable__control:checked~div.sk-toggleable__content {max-height: 200px;max-width: 100%;overflow: auto;}#sk-container-id-2 input.sk-toggleable__control:checked~label.sk-toggleable__label-arrow:before {content: \"▾\";}#sk-container-id-2 div.sk-estimator input.sk-toggleable__control:checked~label.sk-toggleable__label {background-color: #d4ebff;}#sk-container-id-2 div.sk-label input.sk-toggleable__control:checked~label.sk-toggleable__label {background-color: #d4ebff;}#sk-container-id-2 input.sk-hidden--visually {border: 0;clip: rect(1px 1px 1px 1px);clip: rect(1px, 1px, 1px, 1px);height: 1px;margin: -1px;overflow: hidden;padding: 0;position: absolute;width: 1px;}#sk-container-id-2 div.sk-estimator {font-family: monospace;background-color: #f0f8ff;border: 1px dotted black;border-radius: 0.25em;box-sizing: border-box;margin-bottom: 0.5em;}#sk-container-id-2 div.sk-estimator:hover {background-color: #d4ebff;}#sk-container-id-2 div.sk-parallel-item::after {content: \"\";width: 100%;border-bottom: 1px solid gray;flex-grow: 1;}#sk-container-id-2 div.sk-label:hover label.sk-toggleable__label {background-color: #d4ebff;}#sk-container-id-2 div.sk-serial::before {content: \"\";position: absolute;border-left: 1px solid gray;box-sizing: border-box;top: 0;bottom: 0;left: 50%;z-index: 0;}#sk-container-id-2 div.sk-serial {display: flex;flex-direction: column;align-items: center;background-color: white;padding-right: 0.2em;padding-left: 0.2em;position: relative;}#sk-container-id-2 div.sk-item {position: relative;z-index: 1;}#sk-container-id-2 div.sk-parallel {display: flex;align-items: stretch;justify-content: center;background-color: white;position: relative;}#sk-container-id-2 div.sk-item::before, #sk-container-id-2 div.sk-parallel-item::before {content: \"\";position: absolute;border-left: 1px solid gray;box-sizing: border-box;top: 0;bottom: 0;left: 50%;z-index: -1;}#sk-container-id-2 div.sk-parallel-item {display: flex;flex-direction: column;z-index: 1;position: relative;background-color: white;}#sk-container-id-2 div.sk-parallel-item:first-child::after {align-self: flex-end;width: 50%;}#sk-container-id-2 div.sk-parallel-item:last-child::after {align-self: flex-start;width: 50%;}#sk-container-id-2 div.sk-parallel-item:only-child::after {width: 0;}#sk-container-id-2 div.sk-dashed-wrapped {border: 1px dashed gray;margin: 0 0.4em 0.5em 0.4em;box-sizing: border-box;padding-bottom: 0.4em;background-color: white;}#sk-container-id-2 div.sk-label label {font-family: monospace;font-weight: bold;display: inline-block;line-height: 1.2em;}#sk-container-id-2 div.sk-label-container {text-align: center;}#sk-container-id-2 div.sk-container {/* jupyter's `normalize.less` sets `[hidden] { display: none; }` but bootstrap.min.css set `[hidden] { display: none !important; }` so we also need the `!important` here to be able to override the default hidden behavior on the sphinx rendered scikit-learn.org. See: https://github.com/scikit-learn/scikit-learn/issues/21755 */display: inline-block !important;position: relative;}#sk-container-id-2 div.sk-text-repr-fallback {display: none;}</style><div id=\"sk-container-id-2\" class=\"sk-top-container\"><div class=\"sk-text-repr-fallback\"><pre>RandomForestClassifier()</pre><b>In a Jupyter environment, please rerun this cell to show the HTML representation or trust the notebook. <br />On GitHub, the HTML representation is unable to render, please try loading this page with nbviewer.org.</b></div><div class=\"sk-container\" hidden><div class=\"sk-item\"><div class=\"sk-estimator sk-toggleable\"><input class=\"sk-toggleable__control sk-hidden--visually\" id=\"sk-estimator-id-2\" type=\"checkbox\" checked><label for=\"sk-estimator-id-2\" class=\"sk-toggleable__label sk-toggleable__label-arrow\">RandomForestClassifier</label><div class=\"sk-toggleable__content\"><pre>RandomForestClassifier()</pre></div></div></div></div></div>"
            ]
          },
          "metadata": {},
          "execution_count": 29
        }
      ]
    },
    {
      "cell_type": "code",
      "source": [
        "# Inisialisasi RFE dengan model RandomForestClassifier\n",
        "rfe2 = RFE(model2)\n",
        "\n",
        "# Melakukan seleksi fitur\n",
        "X_smote_rfe_selected = rfe2.fit_transform(X_smote, y_smote)"
      ],
      "metadata": {
        "id": "ZuBwWyfldzUk"
      },
      "execution_count": null,
      "outputs": []
    },
    {
      "cell_type": "code",
      "source": [
        "# Menampilkan fitur yang dipilih oleh RFE\n",
        "selected_features = X.columns[rfe2.support_]\n",
        "print(\"Fitur yang dipilih oleh RFE:\", selected_features)"
      ],
      "metadata": {
        "colab": {
          "base_uri": "https://localhost:8080/"
        },
        "id": "LMjuVRKxd8sZ",
        "outputId": "84183707-a9cd-4108-9ff0-be6f9fc2f94e"
      },
      "execution_count": null,
      "outputs": [
        {
          "output_type": "stream",
          "name": "stdout",
          "text": [
            "Fitur yang dipilih oleh RFE: Index(['checking_account_status', 'duration', 'credit_history', 'purpose',\n",
            "       'credit_amount', 'savings', 'present_employment', 'personal',\n",
            "       'present_residence', 'age'],\n",
            "      dtype='object')\n"
          ]
        }
      ]
    },
    {
      "cell_type": "code",
      "source": [
        "# Mendapatkan feature importances dari fitur yang dipilih oleh RFE\n",
        "feat_importances = pd.Series(model.feature_importances_[:len(selected_features)], index=selected_features)\n",
        "\n",
        "# Memvisualisasikan 10 fitur terpenting\n",
        "feat_importances.nlargest(10).plot(kind='barh')\n",
        "plt.xlabel('Feature Importance Score')\n",
        "plt.ylabel('Features')\n",
        "plt.title('Top 10 Important Features')\n",
        "plt.show()"
      ],
      "metadata": {
        "colab": {
          "base_uri": "https://localhost:8080/",
          "height": 472
        },
        "id": "51BNx4rOeD-n",
        "outputId": "6aef93ef-b251-417d-fee2-8da673549ac9"
      },
      "execution_count": null,
      "outputs": [
        {
          "output_type": "display_data",
          "data": {
            "text/plain": [
              "<Figure size 640x480 with 1 Axes>"
            ],
            "image/png": "[encoded data removed]"
          },
          "metadata": {}
        }
      ]
    },
    {
      "cell_type": "markdown",
      "source": [
        "berdasarkan hasil uji dengan model random forest,hasil seleksi fitur RFE cukup signifikan dengan uji annova"
      ],
      "metadata": {
        "id": "GpEAbuZveR76"
      }
    },
    {
      "cell_type": "markdown",
      "source": [
        "# ***Evaluation(setelah menggunakan teknik SMOTE)***"
      ],
      "metadata": {
        "id": "oZr-xJBcdU9y"
      }
    },
    {
      "cell_type": "code",
      "source": [
        "# Melakukan cross-validation\n",
        "# Cross-validation\n",
        "kfold2 = KFold(n_splits=10)\n",
        "results2 = cross_validate(estimator=model2,\n",
        "                         X=X_smote_rfe_selected,\n",
        "                         y=y_smote,\n",
        "                         cv=kfold2)"
      ],
      "metadata": {
        "id": "wocmEKjdeU5J"
      },
      "execution_count": null,
      "outputs": []
    },
    {
      "cell_type": "code",
      "source": [
        "# Memprediksi target\n",
        "y_pred2 = cross_val_predict(model2, X_smote_rfe_selected, y_smote)"
      ],
      "metadata": {
        "id": "rKLnX-apeUv2"
      },
      "execution_count": null,
      "outputs": []
    },
    {
      "cell_type": "code",
      "source": [
        "# Confusion matrix\n",
        "conf_mat2 = confusion_matrix(y_smote, y_pred2)\n",
        "sns.heatmap(conf_mat2, annot=True, fmt=\"d\")\n",
        "plt.title('Random Forest in Confusion Matrix', fontsize=14)\n",
        "plt.xlabel('true label', fontsize=12)\n",
        "plt.ylabel('predicted label', fontsize=12)\n",
        "plt.show()"
      ],
      "metadata": {
        "colab": {
          "base_uri": "https://localhost:8080/",
          "height": 477
        },
        "id": "zOe9K5acexri",
        "outputId": "accb5055-e368-41bd-ac00-831a0bc6939d"
      },
      "execution_count": null,
      "outputs": [
        {
          "output_type": "display_data",
          "data": {
            "text/plain": [
              "<Figure size 640x480 with 2 Axes>"
            ],
            "image/png": "[encoded data removed]"
          },
          "metadata": {}
        }
      ]
    },
    {
      "cell_type": "code",
      "source": [
        "# Menghitung TP, TN, FP, FN\n",
        "TP = conf_mat2[1, 1]\n",
        "TN = conf_mat2[0, 0]\n",
        "FP = conf_mat2[0, 1]\n",
        "FN = conf_mat2[1, 0]\n",
        "# Menampilkan TP, TN, FP, FN\n",
        "print(\"True Positives (TP):\", TP)\n",
        "print(\"True Negatives (TN):\", TN)\n",
        "print(\"False Positives (FP):\", FP)\n",
        "print(\"False Negatives (FN):\", FN)"
      ],
      "metadata": {
        "colab": {
          "base_uri": "https://localhost:8080/"
        },
        "id": "-pg9KDCCe33X",
        "outputId": "0c922c4e-0bb0-4fce-f06e-4e618c46f99d"
      },
      "execution_count": null,
      "outputs": [
        {
          "output_type": "stream",
          "name": "stdout",
          "text": [
            "True Positives (TP): 572\n",
            "True Negatives (TN): 574\n",
            "False Positives (FP): 126\n",
            "False Negatives (FN): 128\n"
          ]
        }
      ]
    },
    {
      "cell_type": "code",
      "source": [
        "print(classification_report(y_smote, y_pred2))"
      ],
      "metadata": {
        "colab": {
          "base_uri": "https://localhost:8080/"
        },
        "id": "kk71Bc4Ee-DO",
        "outputId": "a1e4d309-19cc-42c2-d3e1-5196f4ae55e8"
      },
      "execution_count": null,
      "outputs": [
        {
          "output_type": "stream",
          "name": "stdout",
          "text": [
            "              precision    recall  f1-score   support\n",
            "\n",
            "           0       0.82      0.82      0.82       700\n",
            "           1       0.82      0.82      0.82       700\n",
            "\n",
            "    accuracy                           0.82      1400\n",
            "   macro avg       0.82      0.82      0.82      1400\n",
            "weighted avg       0.82      0.82      0.82      1400\n",
            "\n"
          ]
        }
      ]
    },
    {
      "cell_type": "code",
      "source": [
        "fpr, tpr, thresholds = roc_curve(y_smote, y_pred2)\n",
        "auc_value2 = auc(fpr, tpr)\n",
        "\n",
        "plt.figure(figsize=(6, 4))\n",
        "plt.plot(fpr, tpr, label='Kurva ROC (AUC: {:.2f})'.format(auc_value2))\n",
        "plt.plot([0, 1], [0, 1], 'k--', label='Random Classifier')\n",
        "plt.xlabel('False Positive Rate (FPR)')\n",
        "plt.ylabel('True Positive Rate (TPR)')\n",
        "plt.title('Receiver Operating Characteristic (ROC)')\n",
        "plt.legend(loc='lower right')\n",
        "plt.grid(True)\n",
        "plt.show()"
      ],
      "metadata": {
        "colab": {
          "base_uri": "https://localhost:8080/",
          "height": 410
        },
        "id": "nzqVPblOfFhV",
        "outputId": "37a69320-f4a1-4d5d-d746-ea41fa8582b9"
      },
      "execution_count": null,
      "outputs": [
        {
          "output_type": "display_data",
          "data": {
            "text/plain": [
              "<Figure size 600x400 with 1 Axes>"
            ],
            "image/png": "[encoded data removed]"
          },
          "metadata": {}
        }
      ]
    },
    {
      "cell_type": "code",
      "source": [
        "# Menggabungkan data fitur, target sebenarnya, dan prediksi model\n",
        "result_df = pd.DataFrame(X_smote, columns=X.columns)\n",
        "result_df['actual'] = y_smote\n",
        "result_df['predicted'] = y_pred2"
      ],
      "metadata": {
        "id": "DlcgZRpwjqxo"
      },
      "execution_count": null,
      "outputs": []
    },
    {
      "cell_type": "code",
      "source": [
        "# Menampilkan data yang sebenarnya positif tetapi diprediksi sebagai negatif\n",
        "false_negatives = result_df[(result_df['actual'] == 1) & (result_df['predicted'] == 0)]\n",
        "print(\"Jumlah false negatives:\", len(false_negatives))\n",
        "false_negatives.head()"
      ],
      "metadata": {
        "colab": {
          "base_uri": "https://localhost:8080/",
          "height": 273
        },
        "id": "g_4oQObgjwF_",
        "outputId": "22ef3ec7-c60a-4f40-c69d-5d04a7c343dc"
      },
      "execution_count": null,
      "outputs": [
        {
          "output_type": "stream",
          "name": "stdout",
          "text": [
            "Jumlah false negatives: 128\n"
          ]
        },
        {
          "output_type": "execute_result",
          "data": {
            "text/plain": [
              "    checking_account_status  duration  credit_history  purpose  credit_amount  \\\n",
              "13                        0        24               4        0           1199   \n",
              "54                        1        36               3        0           2225   \n",
              "56                        1        12               2        4           6468   \n",
              "68                        3        36               2        7           1819   \n",
              "74                        0        36               2        7           1977   \n",
              "\n",
              "    savings  present_employment  installment_rate  personal  other_debtors  \\\n",
              "13        0                   4                 4         2              0   \n",
              "54        0                   4                 4         2              0   \n",
              "56        4                   0                 2         2              0   \n",
              "68        0                   2                 4         2              0   \n",
              "74        4                   4                 4         2              0   \n",
              "\n",
              "    ...  age  other_installment_plans  housing  existing_credits  job  \\\n",
              "13  ...   60                        2        1                 2    1   \n",
              "54  ...   57                        0        2                 2    2   \n",
              "56  ...   52                        2        1                 1    3   \n",
              "68  ...   37                        1        2                 1    2   \n",
              "74  ...   40                        2        1                 1    3   \n",
              "\n",
              "    dependents  telephone  foreign_worker  actual  predicted  \n",
              "13           1          0               0       1          0  \n",
              "54           1          1               0       1          0  \n",
              "56           1          1               0       1          0  \n",
              "68           1          1               0       1          0  \n",
              "74           1          1               0       1          0  \n",
              "\n",
              "[5 rows x 22 columns]"
            ],
            "text/html": [
              "\n",
              "  <div id=\"df-833f38c9-26d3-4f8c-90f8-7bf4a2e7cfa1\" class=\"colab-df-container\">\n",
              "    <div>\n",
              "<style scoped>\n",
              "    .dataframe tbody tr th:only-of-type {\n",
              "        vertical-align: middle;\n",
              "    }\n",
              "\n",
              "    .dataframe tbody tr th {\n",
              "        vertical-align: top;\n",
              "    }\n",
              "\n",
              "    .dataframe thead th {\n",
              "        text-align: right;\n",
              "    }\n",
              "</style>\n",
              "<table border=\"1\" class=\"dataframe\">\n",
              "  <thead>\n",
              "    <tr style=\"text-align: right;\">\n",
              "      <th></th>\n",
              "      <th>checking_account_status</th>\n",
              "      <th>duration</th>\n",
              "      <th>credit_history</th>\n",
              "      <th>purpose</th>\n",
              "      <th>credit_amount</th>\n",
              "      <th>savings</th>\n",
              "      <th>present_employment</th>\n",
              "      <th>installment_rate</th>\n",
              "      <th>personal</th>\n",
              "      <th>other_debtors</th>\n",
              "      <th>...</th>\n",
              "      <th>age</th>\n",
              "      <th>other_installment_plans</th>\n",
              "      <th>housing</th>\n",
              "      <th>existing_credits</th>\n",
              "      <th>job</th>\n",
              "      <th>dependents</th>\n",
              "      <th>telephone</th>\n",
              "      <th>foreign_worker</th>\n",
              "      <th>actual</th>\n",
              "      <th>predicted</th>\n",
              "    </tr>\n",
              "  </thead>\n",
              "  <tbody>\n",
              "    <tr>\n",
              "      <th>13</th>\n",
              "      <td>0</td>\n",
              "      <td>24</td>\n",
              "      <td>4</td>\n",
              "      <td>0</td>\n",
              "      <td>1199</td>\n",
              "      <td>0</td>\n",
              "      <td>4</td>\n",
              "      <td>4</td>\n",
              "      <td>2</td>\n",
              "      <td>0</td>\n",
              "      <td>...</td>\n",
              "      <td>60</td>\n",
              "      <td>2</td>\n",
              "      <td>1</td>\n",
              "      <td>2</td>\n",
              "      <td>1</td>\n",
              "      <td>1</td>\n",
              "      <td>0</td>\n",
              "      <td>0</td>\n",
              "      <td>1</td>\n",
              "      <td>0</td>\n",
              "    </tr>\n",
              "    <tr>\n",
              "      <th>54</th>\n",
              "      <td>1</td>\n",
              "      <td>36</td>\n",
              "      <td>3</td>\n",
              "      <td>0</td>\n",
              "      <td>2225</td>\n",
              "      <td>0</td>\n",
              "      <td>4</td>\n",
              "      <td>4</td>\n",
              "      <td>2</td>\n",
              "      <td>0</td>\n",
              "      <td>...</td>\n",
              "      <td>57</td>\n",
              "      <td>0</td>\n",
              "      <td>2</td>\n",
              "      <td>2</td>\n",
              "      <td>2</td>\n",
              "      <td>1</td>\n",
              "      <td>1</td>\n",
              "      <td>0</td>\n",
              "      <td>1</td>\n",
              "      <td>0</td>\n",
              "    </tr>\n",
              "    <tr>\n",
              "      <th>56</th>\n",
              "      <td>1</td>\n",
              "      <td>12</td>\n",
              "      <td>2</td>\n",
              "      <td>4</td>\n",
              "      <td>6468</td>\n",
              "      <td>4</td>\n",
              "      <td>0</td>\n",
              "      <td>2</td>\n",
              "      <td>2</td>\n",
              "      <td>0</td>\n",
              "      <td>...</td>\n",
              "      <td>52</td>\n",
              "      <td>2</td>\n",
              "      <td>1</td>\n",
              "      <td>1</td>\n",
              "      <td>3</td>\n",
              "      <td>1</td>\n",
              "      <td>1</td>\n",
              "      <td>0</td>\n",
              "      <td>1</td>\n",
              "      <td>0</td>\n",
              "    </tr>\n",
              "    <tr>\n",
              "      <th>68</th>\n",
              "      <td>3</td>\n",
              "      <td>36</td>\n",
              "      <td>2</td>\n",
              "      <td>7</td>\n",
              "      <td>1819</td>\n",
              "      <td>0</td>\n",
              "      <td>2</td>\n",
              "      <td>4</td>\n",
              "      <td>2</td>\n",
              "      <td>0</td>\n",
              "      <td>...</td>\n",
              "      <td>37</td>\n",
              "      <td>1</td>\n",
              "      <td>2</td>\n",
              "      <td>1</td>\n",
              "      <td>2</td>\n",
              "      <td>1</td>\n",
              "      <td>1</td>\n",
              "      <td>0</td>\n",
              "      <td>1</td>\n",
              "      <td>0</td>\n",
              "    </tr>\n",
              "    <tr>\n",
              "      <th>74</th>\n",
              "      <td>0</td>\n",
              "      <td>36</td>\n",
              "      <td>2</td>\n",
              "      <td>7</td>\n",
              "      <td>1977</td>\n",
              "      <td>4</td>\n",
              "      <td>4</td>\n",
              "      <td>4</td>\n",
              "      <td>2</td>\n",
              "      <td>0</td>\n",
              "      <td>...</td>\n",
              "      <td>40</td>\n",
              "      <td>2</td>\n",
              "      <td>1</td>\n",
              "      <td>1</td>\n",
              "      <td>3</td>\n",
              "      <td>1</td>\n",
              "      <td>1</td>\n",
              "      <td>0</td>\n",
              "      <td>1</td>\n",
              "      <td>0</td>\n",
              "    </tr>\n",
              "  </tbody>\n",
              "</table>\n",
              "<p>5 rows × 22 columns</p>\n",
              "</div>\n",
              "    <div class=\"colab-df-buttons\">\n",
              "\n",
              "  <div class=\"colab-df-container\">\n",
              "    <button class=\"colab-df-convert\" onclick=\"convertToInteractive('df-833f38c9-26d3-4f8c-90f8-7bf4a2e7cfa1')\"\n",
              "            title=\"Convert this dataframe to an interactive table.\"\n",
              "            style=\"display:none;\">\n",
              "\n",
              "  <svg xmlns=\"http://www.w3.org/2000/svg\" height=\"24px\" viewBox=\"0 -960 960 960\">\n",
              "    <path d=\"M120-120v-720h720v720H120Zm60-500h600v-160H180v160Zm220 220h160v-160H400v160Zm0 220h160v-160H400v160ZM180-400h160v-160H180v160Zm440 0h160v-160H620v160ZM180-180h160v-160H180v160Zm440 0h160v-160H620v160Z\"/>\n",
              "  </svg>\n",
              "    </button>\n",
              "\n",
              "  <style>\n",
              "    .colab-df-container {\n",
              "      display:flex;\n",
              "      gap: 12px;\n",
              "    }\n",
              "\n",
              "    .colab-df-convert {\n",
              "      background-color: #E8F0FE;\n",
              "      border: none;\n",
              "      border-radius: 50%;\n",
              "      cursor: pointer;\n",
              "      display: none;\n",
              "      fill: #1967D2;\n",
              "      height: 32px;\n",
              "      padding: 0 0 0 0;\n",
              "      width: 32px;\n",
              "    }\n",
              "\n",
              "    .colab-df-convert:hover {\n",
              "      background-color: #E2EBFA;\n",
              "      box-shadow: 0px 1px 2px rgba(60, 64, 67, 0.3), 0px 1px 3px 1px rgba(60, 64, 67, 0.15);\n",
              "      fill: #174EA6;\n",
              "    }\n",
              "\n",
              "    .colab-df-buttons div {\n",
              "      margin-bottom: 4px;\n",
              "    }\n",
              "\n",
              "    [theme=dark] .colab-df-convert {\n",
              "      background-color: #3B4455;\n",
              "      fill: #D2E3FC;\n",
              "    }\n",
              "\n",
              "    [theme=dark] .colab-df-convert:hover {\n",
              "      background-color: #434B5C;\n",
              "      box-shadow: 0px 1px 3px 1px rgba(0, 0, 0, 0.15);\n",
              "      filter: drop-shadow(0px 1px 2px rgba(0, 0, 0, 0.3));\n",
              "      fill: #FFFFFF;\n",
              "    }\n",
              "  </style>\n",
              "\n",
              "    <script>\n",
              "      const buttonEl =\n",
              "        document.querySelector('#df-833f38c9-26d3-4f8c-90f8-7bf4a2e7cfa1 button.colab-df-convert');\n",
              "      buttonEl.style.display =\n",
              "        google.colab.kernel.accessAllowed ? 'block' : 'none';\n",
              "\n",
              "      async function convertToInteractive(key) {\n",
              "        const element = document.querySelector('#df-833f38c9-26d3-4f8c-90f8-7bf4a2e7cfa1');\n",
              "        const dataTable =\n",
              "          await google.colab.kernel.invokeFunction('convertToInteractive',\n",
              "                                                    [key], {});\n",
              "        if (!dataTable) return;\n",
              "\n",
              "        const docLinkHtml = 'Like what you see? Visit the ' +\n",
              "          '<a target=\"_blank\" href=https://colab.research.google.com/notebooks/data_table.ipynb>data table notebook</a>'\n",
              "          + ' to learn more about interactive tables.';\n",
              "        element.innerHTML = '';\n",
              "        dataTable['output_type'] = 'display_data';\n",
              "        await google.colab.output.renderOutput(dataTable, element);\n",
              "        const docLink = document.createElement('div');\n",
              "        docLink.innerHTML = docLinkHtml;\n",
              "        element.appendChild(docLink);\n",
              "      }\n",
              "    </script>\n",
              "  </div>\n",
              "\n",
              "\n",
              "<div id=\"df-f6a6da46-ec92-4e7c-86ff-980488da5ef1\">\n",
              "  <button class=\"colab-df-quickchart\" onclick=\"quickchart('df-f6a6da46-ec92-4e7c-86ff-980488da5ef1')\"\n",
              "            title=\"Suggest charts\"\n",
              "            style=\"display:none;\">\n",
              "\n",
              "<svg xmlns=\"http://www.w3.org/2000/svg\" height=\"24px\"viewBox=\"0 0 24 24\"\n",
              "     width=\"24px\">\n",
              "    <g>\n",
              "        <path d=\"M19 3H5c-1.1 0-2 .9-2 2v14c0 1.1.9 2 2 2h14c1.1 0 2-.9 2-2V5c0-1.1-.9-2-2-2zM9 17H7v-7h2v7zm4 0h-2V7h2v10zm4 0h-2v-4h2v4z\"/>\n",
              "    </g>\n",
              "</svg>\n",
              "  </button>\n",
              "\n",
              "<style>\n",
              "  .colab-df-quickchart {\n",
              "      --bg-color: #E8F0FE;\n",
              "      --fill-color: #1967D2;\n",
              "      --hover-bg-color: #E2EBFA;\n",
              "      --hover-fill-color: #174EA6;\n",
              "      --disabled-fill-color: #AAA;\n",
              "      --disabled-bg-color: #DDD;\n",
              "  }\n",
              "\n",
              "  [theme=dark] .colab-df-quickchart {\n",
              "      --bg-color: #3B4455;\n",
              "      --fill-color: #D2E3FC;\n",
              "      --hover-bg-color: #434B5C;\n",
              "      --hover-fill-color: #FFFFFF;\n",
              "      --disabled-bg-color: #3B4455;\n",
              "      --disabled-fill-color: #666;\n",
              "  }\n",
              "\n",
              "  .colab-df-quickchart {\n",
              "    background-color: var(--bg-color);\n",
              "    border: none;\n",
              "    border-radius: 50%;\n",
              "    cursor: pointer;\n",
              "    display: none;\n",
              "    fill: var(--fill-color);\n",
              "    height: 32px;\n",
              "    padding: 0;\n",
              "    width: 32px;\n",
              "  }\n",
              "\n",
              "  .colab-df-quickchart:hover {\n",
              "    background-color: var(--hover-bg-color);\n",
              "    box-shadow: 0 1px 2px rgba(60, 64, 67, 0.3), 0 1px 3px 1px rgba(60, 64, 67, 0.15);\n",
              "    fill: var(--button-hover-fill-color);\n",
              "  }\n",
              "\n",
              "  .colab-df-quickchart-complete:disabled,\n",
              "  .colab-df-quickchart-complete:disabled:hover {\n",
              "    background-color: var(--disabled-bg-color);\n",
              "    fill: var(--disabled-fill-color);\n",
              "    box-shadow: none;\n",
              "  }\n",
              "\n",
              "  .colab-df-spinner {\n",
              "    border: 2px solid var(--fill-color);\n",
              "    border-color: transparent;\n",
              "    border-bottom-color: var(--fill-color);\n",
              "    animation:\n",
              "      spin 1s steps(1) infinite;\n",
              "  }\n",
              "\n",
              "  @keyframes spin {\n",
              "    0% {\n",
              "      border-color: transparent;\n",
              "      border-bottom-color: var(--fill-color);\n",
              "      border-left-color: var(--fill-color);\n",
              "    }\n",
              "    20% {\n",
              "      border-color: transparent;\n",
              "      border-left-color: var(--fill-color);\n",
              "      border-top-color: var(--fill-color);\n",
              "    }\n",
              "    30% {\n",
              "      border-color: transparent;\n",
              "      border-left-color: var(--fill-color);\n",
              "      border-top-color: var(--fill-color);\n",
              "      border-right-color: var(--fill-color);\n",
              "    }\n",
              "    40% {\n",
              "      border-color: transparent;\n",
              "      border-right-color: var(--fill-color);\n",
              "      border-top-color: var(--fill-color);\n",
              "    }\n",
              "    60% {\n",
              "      border-color: transparent;\n",
              "      border-right-color: var(--fill-color);\n",
              "    }\n",
              "    80% {\n",
              "      border-color: transparent;\n",
              "      border-right-color: var(--fill-color);\n",
              "      border-bottom-color: var(--fill-color);\n",
              "    }\n",
              "    90% {\n",
              "      border-color: transparent;\n",
              "      border-bottom-color: var(--fill-color);\n",
              "    }\n",
              "  }\n",
              "</style>\n",
              "\n",
              "  <script>\n",
              "    async function quickchart(key) {\n",
              "      const quickchartButtonEl =\n",
              "        document.querySelector('#' + key + ' button');\n",
              "      quickchartButtonEl.disabled = true;  // To prevent multiple clicks.\n",
              "      quickchartButtonEl.classList.add('colab-df-spinner');\n",
              "      try {\n",
              "        const charts = await google.colab.kernel.invokeFunction(\n",
              "            'suggestCharts', [key], {});\n",
              "      } catch (error) {\n",
              "        console.error('Error during call to suggestCharts:', error);\n",
              "      }\n",
              "      quickchartButtonEl.classList.remove('colab-df-spinner');\n",
              "      quickchartButtonEl.classList.add('colab-df-quickchart-complete');\n",
              "    }\n",
              "    (() => {\n",
              "      let quickchartButtonEl =\n",
              "        document.querySelector('#df-f6a6da46-ec92-4e7c-86ff-980488da5ef1 button');\n",
              "      quickchartButtonEl.style.display =\n",
              "        google.colab.kernel.accessAllowed ? 'block' : 'none';\n",
              "    })();\n",
              "  </script>\n",
              "</div>\n",
              "\n",
              "    </div>\n",
              "  </div>\n"
            ],
            "application/vnd.google.colaboratory.intrinsic+json": {
              "type": "dataframe",
              "variable_name": "false_negatives"
            }
          },
          "metadata": {},
          "execution_count": 40
        }
      ]
    },
    {
      "cell_type": "code",
      "source": [
        "# Membuat DataFrame dengan data fitur\n",
        "result_df = pd.DataFrame(X_smote, columns=X.columns)\n",
        "\n",
        "# Menambahkan kolom untuk target sebenarnya dan prediksi model\n",
        "result_df['actual'] = y_smote\n",
        "result_df['predicted'] = y_pred2\n",
        "\n",
        "# Menyimpan DataFrame ke dalam file Excel\n",
        "result_df.to_excel('result_dataset.xlsx', index=False)\n",
        "\n",
        "# Mengunduh file Excel\n",
        "from google.colab import files\n",
        "#files.download('result_dataset.xlsx')"
      ],
      "metadata": {
        "id": "ztCCuDXdemzq"
      },
      "execution_count": null,
      "outputs": []
    },
    {
      "cell_type": "code",
      "source": [
        "from sklearn.tree import export_graphviz\n",
        "import graphviz\n",
        "from google.colab import files\n",
        "\n",
        "# Mengekstrak salah satu pohon dari model RandomForest\n",
        "tree = model.estimators_[0]\n",
        "\n",
        "# Batasi kedalaman pohon\n",
        "max_depth = 3\n",
        "\n",
        "# Visualisasi pohon keputusan\n",
        "dot_data = export_graphviz(tree, out_file=None,\n",
        "                           feature_names=X.columns,\n",
        "                           class_names=['Good', 'Bad'],\n",
        "                           filled=True, rounded=True,\n",
        "                           special_characters=True,\n",
        "                           max_depth=max_depth)\n",
        "\n",
        "# Membuat objek graphviz\n",
        "graph = graphviz.Source(dot_data)\n",
        "\n",
        "# Menyimpan visualisasi dalam format .pdf dan .png\n",
        "graph.render(\"random_forest_tree_small\", format='png') # Menyimpan dalam format PNG\n",
        "\n",
        "\n",
        "#files.download(\"random_forest_tree_small.png\")\n",
        "graph"
      ],
      "metadata": {
        "colab": {
          "base_uri": "https://localhost:8080/",
          "height": 735
        },
        "id": "dyUCl1rg621u",
        "outputId": "16e8aa4e-e45a-4bbd-8629-57dda9828039"
      },
      "execution_count": null,
      "outputs": [
        {
          "output_type": "execute_result",
          "data": {
            "image/svg+xml": "<?xml version=\"1.0\" encoding=\"UTF-8\" standalone=\"no\"?>\n<!DOCTYPE svg PUBLIC \"-//W3C//DTD SVG 1.1//EN\"\n \"http://www.w3.org/Graphics/SVG/1.1/DTD/svg11.dtd\">\n<!-- Generated by graphviz version 2.43.0 (0)\n -->\n<!-- Title: Tree Pages: 1 -->\n<svg width=\"1273pt\" height=\"520pt\"\n viewBox=\"0.00 0.00 1273.00 520.00\" xmlns=\"http://www.w3.org/2000/svg\" xmlns:xlink=\"http://www.w3.org/1999/xlink\">\n<g id=\"graph0\" class=\"graph\" transform=\"scale(1 1) rotate(0) translate(4 516)\">\n<title>Tree</title>\n<polygon fill=\"white\" stroke=\"transparent\" points=\"-4,4 -4,-516 1269,-516 1269,4 -4,4\"/>\n<!-- 0 -->\n<g id=\"node1\" class=\"node\">\n<title>0</title>\n<path fill=\"#f0b890\" stroke=\"black\" d=\"M755.5,-512C755.5,-512 620.5,-512 620.5,-512 614.5,-512 608.5,-506 608.5,-500 608.5,-500 608.5,-441 608.5,-441 608.5,-435 614.5,-429 620.5,-429 620.5,-429 755.5,-429 755.5,-429 761.5,-429 767.5,-435 767.5,-441 767.5,-441 767.5,-500 767.5,-500 767.5,-506 761.5,-512 755.5,-512\"/>\n<text text-anchor=\"start\" x=\"616.5\" y=\"-496.8\" font-family=\"Helvetica,sans-Serif\" font-size=\"14.00\">credit_amount ≤ 6214.0</text>\n<text text-anchor=\"start\" x=\"652.5\" y=\"-481.8\" font-family=\"Helvetica,sans-Serif\" font-size=\"14.00\">gini = 0.424</text>\n<text text-anchor=\"start\" x=\"643\" y=\"-466.8\" font-family=\"Helvetica,sans-Serif\" font-size=\"14.00\">samples = 631</text>\n<text text-anchor=\"start\" x=\"633.5\" y=\"-451.8\" font-family=\"Helvetica,sans-Serif\" font-size=\"14.00\">value = [695, 305]</text>\n<text text-anchor=\"start\" x=\"647.5\" y=\"-436.8\" font-family=\"Helvetica,sans-Serif\" font-size=\"14.00\">class = Good</text>\n</g>\n<!-- 1 -->\n<g id=\"node2\" class=\"node\">\n<title>1</title>\n<path fill=\"#efb083\" stroke=\"black\" d=\"M562.5,-393C562.5,-393 455.5,-393 455.5,-393 449.5,-393 443.5,-387 443.5,-381 443.5,-381 443.5,-322 443.5,-322 443.5,-316 449.5,-310 455.5,-310 455.5,-310 562.5,-310 562.5,-310 568.5,-310 574.5,-316 574.5,-322 574.5,-322 574.5,-381 574.5,-381 574.5,-387 568.5,-393 562.5,-393\"/>\n<text text-anchor=\"start\" x=\"451.5\" y=\"-377.8\" font-family=\"Helvetica,sans-Serif\" font-size=\"14.00\">credit_history ≤ 1.5</text>\n<text text-anchor=\"start\" x=\"473.5\" y=\"-362.8\" font-family=\"Helvetica,sans-Serif\" font-size=\"14.00\">gini = 0.396</text>\n<text text-anchor=\"start\" x=\"464\" y=\"-347.8\" font-family=\"Helvetica,sans-Serif\" font-size=\"14.00\">samples = 538</text>\n<text text-anchor=\"start\" x=\"454.5\" y=\"-332.8\" font-family=\"Helvetica,sans-Serif\" font-size=\"14.00\">value = [618, 231]</text>\n<text text-anchor=\"start\" x=\"468.5\" y=\"-317.8\" font-family=\"Helvetica,sans-Serif\" font-size=\"14.00\">class = Good</text>\n</g>\n<!-- 0&#45;&gt;1 -->\n<g id=\"edge1\" class=\"edge\">\n<title>0&#45;&gt;1</title>\n<path fill=\"none\" stroke=\"black\" d=\"M625.9,-428.91C610.9,-419.11 594.77,-408.56 579.43,-398.53\"/>\n<polygon fill=\"black\" stroke=\"black\" points=\"581.28,-395.56 570.99,-393.02 577.45,-401.42 581.28,-395.56\"/>\n<text text-anchor=\"middle\" x=\"576.12\" y=\"-413.79\" font-family=\"Helvetica,sans-Serif\" font-size=\"14.00\">True</text>\n</g>\n<!-- 308 -->\n<g id=\"node17\" class=\"node\">\n<title>308</title>\n<path fill=\"#fefaf7\" stroke=\"black\" d=\"M934,-393C934,-393 756,-393 756,-393 750,-393 744,-387 744,-381 744,-381 744,-322 744,-322 744,-316 750,-310 756,-310 756,-310 934,-310 934,-310 940,-310 946,-316 946,-322 946,-322 946,-381 946,-381 946,-387 940,-393 934,-393\"/>\n<text text-anchor=\"start\" x=\"752\" y=\"-377.8\" font-family=\"Helvetica,sans-Serif\" font-size=\"14.00\">checking_account_status ≤ 2.0</text>\n<text text-anchor=\"start\" x=\"817\" y=\"-362.8\" font-family=\"Helvetica,sans-Serif\" font-size=\"14.00\">gini = 0.5</text>\n<text text-anchor=\"start\" x=\"804\" y=\"-347.8\" font-family=\"Helvetica,sans-Serif\" font-size=\"14.00\">samples = 93</text>\n<text text-anchor=\"start\" x=\"798\" y=\"-332.8\" font-family=\"Helvetica,sans-Serif\" font-size=\"14.00\">value = [77, 74]</text>\n<text text-anchor=\"start\" x=\"804.5\" y=\"-317.8\" font-family=\"Helvetica,sans-Serif\" font-size=\"14.00\">class = Good</text>\n</g>\n<!-- 0&#45;&gt;308 -->\n<g id=\"edge16\" class=\"edge\">\n<title>0&#45;&gt;308</title>\n<path fill=\"none\" stroke=\"black\" d=\"M742.47,-428.91C755.38,-419.29 769.25,-408.95 782.48,-399.09\"/>\n<polygon fill=\"black\" stroke=\"black\" points=\"784.7,-401.8 790.63,-393.02 780.52,-396.19 784.7,-401.8\"/>\n<text text-anchor=\"middle\" x=\"787.01\" y=\"-414.06\" font-family=\"Helvetica,sans-Serif\" font-size=\"14.00\">False</text>\n</g>\n<!-- 2 -->\n<g id=\"node3\" class=\"node\">\n<title>2</title>\n<path fill=\"#c1e1f7\" stroke=\"black\" d=\"M322,-274C322,-274 152,-274 152,-274 146,-274 140,-268 140,-262 140,-262 140,-203 140,-203 140,-197 146,-191 152,-191 152,-191 322,-191 322,-191 328,-191 334,-197 334,-203 334,-203 334,-262 334,-262 334,-268 328,-274 322,-274\"/>\n<text text-anchor=\"start\" x=\"148\" y=\"-258.8\" font-family=\"Helvetica,sans-Serif\" font-size=\"14.00\">other_installment_plans ≤ 1.5</text>\n<text text-anchor=\"start\" x=\"201.5\" y=\"-243.8\" font-family=\"Helvetica,sans-Serif\" font-size=\"14.00\">gini = 0.483</text>\n<text text-anchor=\"start\" x=\"196\" y=\"-228.8\" font-family=\"Helvetica,sans-Serif\" font-size=\"14.00\">samples = 45</text>\n<text text-anchor=\"start\" x=\"190\" y=\"-213.8\" font-family=\"Helvetica,sans-Serif\" font-size=\"14.00\">value = [31, 45]</text>\n<text text-anchor=\"start\" x=\"201.5\" y=\"-198.8\" font-family=\"Helvetica,sans-Serif\" font-size=\"14.00\">class = Bad</text>\n</g>\n<!-- 1&#45;&gt;2 -->\n<g id=\"edge2\" class=\"edge\">\n<title>1&#45;&gt;2</title>\n<path fill=\"none\" stroke=\"black\" d=\"M443.16,-322.18C412.47,-308.98 375.23,-292.96 340.89,-278.19\"/>\n<polygon fill=\"black\" stroke=\"black\" points=\"341.85,-274.79 331.28,-274.06 339.09,-281.22 341.85,-274.79\"/>\n</g>\n<!-- 37 -->\n<g id=\"node10\" class=\"node\">\n<title>37</title>\n<path fill=\"#eda978\" stroke=\"black\" d=\"M559.5,-274C559.5,-274 458.5,-274 458.5,-274 452.5,-274 446.5,-268 446.5,-262 446.5,-262 446.5,-203 446.5,-203 446.5,-197 452.5,-191 458.5,-191 458.5,-191 559.5,-191 559.5,-191 565.5,-191 571.5,-197 571.5,-203 571.5,-203 571.5,-262 571.5,-262 571.5,-268 565.5,-274 559.5,-274\"/>\n<text text-anchor=\"start\" x=\"463.5\" y=\"-258.8\" font-family=\"Helvetica,sans-Serif\" font-size=\"14.00\">duration ≤ 17.0</text>\n<text text-anchor=\"start\" x=\"473.5\" y=\"-243.8\" font-family=\"Helvetica,sans-Serif\" font-size=\"14.00\">gini = 0.365</text>\n<text text-anchor=\"start\" x=\"464\" y=\"-228.8\" font-family=\"Helvetica,sans-Serif\" font-size=\"14.00\">samples = 493</text>\n<text text-anchor=\"start\" x=\"454.5\" y=\"-213.8\" font-family=\"Helvetica,sans-Serif\" font-size=\"14.00\">value = [587, 186]</text>\n<text text-anchor=\"start\" x=\"468.5\" y=\"-198.8\" font-family=\"Helvetica,sans-Serif\" font-size=\"14.00\">class = Good</text>\n</g>\n<!-- 1&#45;&gt;37 -->\n<g id=\"edge9\" class=\"edge\">\n<title>1&#45;&gt;37</title>\n<path fill=\"none\" stroke=\"black\" d=\"M509,-309.91C509,-301.65 509,-292.86 509,-284.3\"/>\n<polygon fill=\"black\" stroke=\"black\" points=\"512.5,-284.02 509,-274.02 505.5,-284.02 512.5,-284.02\"/>\n</g>\n<!-- 3 -->\n<g id=\"node4\" class=\"node\">\n<title>3</title>\n<path fill=\"#f3c5a4\" stroke=\"black\" d=\"M106,-155C106,-155 20,-155 20,-155 14,-155 8,-149 8,-143 8,-143 8,-84 8,-84 8,-78 14,-72 20,-72 20,-72 106,-72 106,-72 112,-72 118,-78 118,-84 118,-84 118,-143 118,-143 118,-149 112,-155 106,-155\"/>\n<text text-anchor=\"start\" x=\"37\" y=\"-139.8\" font-family=\"Helvetica,sans-Serif\" font-size=\"14.00\">job ≤ 2.5</text>\n<text text-anchor=\"start\" x=\"27.5\" y=\"-124.8\" font-family=\"Helvetica,sans-Serif\" font-size=\"14.00\">gini = 0.456</text>\n<text text-anchor=\"start\" x=\"22\" y=\"-109.8\" font-family=\"Helvetica,sans-Serif\" font-size=\"14.00\">samples = 22</text>\n<text text-anchor=\"start\" x=\"16\" y=\"-94.8\" font-family=\"Helvetica,sans-Serif\" font-size=\"14.00\">value = [24, 13]</text>\n<text text-anchor=\"start\" x=\"22.5\" y=\"-79.8\" font-family=\"Helvetica,sans-Serif\" font-size=\"14.00\">class = Good</text>\n</g>\n<!-- 2&#45;&gt;3 -->\n<g id=\"edge3\" class=\"edge\">\n<title>2&#45;&gt;3</title>\n<path fill=\"none\" stroke=\"black\" d=\"M176.63,-190.91C160.42,-180 142.83,-168.18 126.46,-157.17\"/>\n<polygon fill=\"black\" stroke=\"black\" points=\"128.27,-154.17 118.02,-151.49 124.36,-159.98 128.27,-154.17\"/>\n</g>\n<!-- 20 -->\n<g id=\"node7\" class=\"node\">\n<title>20</title>\n<path fill=\"#64b2eb\" stroke=\"black\" d=\"M326,-155C326,-155 148,-155 148,-155 142,-155 136,-149 136,-143 136,-143 136,-84 136,-84 136,-78 142,-72 148,-72 148,-72 326,-72 326,-72 332,-72 338,-78 338,-84 338,-84 338,-143 338,-143 338,-149 332,-155 326,-155\"/>\n<text text-anchor=\"start\" x=\"144\" y=\"-139.8\" font-family=\"Helvetica,sans-Serif\" font-size=\"14.00\">checking_account_status ≤ 1.5</text>\n<text text-anchor=\"start\" x=\"201.5\" y=\"-124.8\" font-family=\"Helvetica,sans-Serif\" font-size=\"14.00\">gini = 0.295</text>\n<text text-anchor=\"start\" x=\"196\" y=\"-109.8\" font-family=\"Helvetica,sans-Serif\" font-size=\"14.00\">samples = 23</text>\n<text text-anchor=\"start\" x=\"194\" y=\"-94.8\" font-family=\"Helvetica,sans-Serif\" font-size=\"14.00\">value = [7, 32]</text>\n<text text-anchor=\"start\" x=\"201.5\" y=\"-79.8\" font-family=\"Helvetica,sans-Serif\" font-size=\"14.00\">class = Bad</text>\n</g>\n<!-- 2&#45;&gt;20 -->\n<g id=\"edge6\" class=\"edge\">\n<title>2&#45;&gt;20</title>\n<path fill=\"none\" stroke=\"black\" d=\"M237,-190.91C237,-182.65 237,-173.86 237,-165.3\"/>\n<polygon fill=\"black\" stroke=\"black\" points=\"240.5,-165.02 237,-155.02 233.5,-165.02 240.5,-165.02\"/>\n</g>\n<!-- 4 -->\n<g id=\"node5\" class=\"node\">\n<title>4</title>\n<path fill=\"#c0c0c0\" stroke=\"black\" d=\"M42,-36C42,-36 12,-36 12,-36 6,-36 0,-30 0,-24 0,-24 0,-12 0,-12 0,-6 6,0 12,0 12,0 42,0 42,0 48,0 54,-6 54,-12 54,-12 54,-24 54,-24 54,-30 48,-36 42,-36\"/>\n<text text-anchor=\"middle\" x=\"27\" y=\"-14.3\" font-family=\"Helvetica,sans-Serif\" font-size=\"14.00\">(...)</text>\n</g>\n<!-- 3&#45;&gt;4 -->\n<g id=\"edge4\" class=\"edge\">\n<title>3&#45;&gt;4</title>\n<path fill=\"none\" stroke=\"black\" d=\"M47.31,-71.76C43.96,-63.04 40.49,-54.04 37.39,-45.99\"/>\n<polygon fill=\"black\" stroke=\"black\" points=\"40.56,-44.48 33.7,-36.41 34.03,-46.99 40.56,-44.48\"/>\n</g>\n<!-- 19 -->\n<g id=\"node6\" class=\"node\">\n<title>19</title>\n<path fill=\"#c0c0c0\" stroke=\"black\" d=\"M114,-36C114,-36 84,-36 84,-36 78,-36 72,-30 72,-24 72,-24 72,-12 72,-12 72,-6 78,0 84,0 84,0 114,0 114,0 120,0 126,-6 126,-12 126,-12 126,-24 126,-24 126,-30 120,-36 114,-36\"/>\n<text text-anchor=\"middle\" x=\"99\" y=\"-14.3\" font-family=\"Helvetica,sans-Serif\" font-size=\"14.00\">(...)</text>\n</g>\n<!-- 3&#45;&gt;19 -->\n<g id=\"edge5\" class=\"edge\">\n<title>3&#45;&gt;19</title>\n<path fill=\"none\" stroke=\"black\" d=\"M78.69,-71.76C82.04,-63.04 85.51,-54.04 88.61,-45.99\"/>\n<polygon fill=\"black\" stroke=\"black\" points=\"91.97,-46.99 92.3,-36.41 85.44,-44.48 91.97,-46.99\"/>\n</g>\n<!-- 21 -->\n<g id=\"node8\" class=\"node\">\n<title>21</title>\n<path fill=\"#c0c0c0\" stroke=\"black\" d=\"M219,-36C219,-36 189,-36 189,-36 183,-36 177,-30 177,-24 177,-24 177,-12 177,-12 177,-6 183,0 189,0 189,0 219,0 219,0 225,0 231,-6 231,-12 231,-12 231,-24 231,-24 231,-30 225,-36 219,-36\"/>\n<text text-anchor=\"middle\" x=\"204\" y=\"-14.3\" font-family=\"Helvetica,sans-Serif\" font-size=\"14.00\">(...)</text>\n</g>\n<!-- 20&#45;&gt;21 -->\n<g id=\"edge7\" class=\"edge\">\n<title>20&#45;&gt;21</title>\n<path fill=\"none\" stroke=\"black\" d=\"M222.62,-71.76C219.54,-63.04 216.37,-54.04 213.53,-45.99\"/>\n<polygon fill=\"black\" stroke=\"black\" points=\"216.77,-44.67 210.14,-36.41 210.17,-47 216.77,-44.67\"/>\n</g>\n<!-- 32 -->\n<g id=\"node9\" class=\"node\">\n<title>32</title>\n<path fill=\"#c0c0c0\" stroke=\"black\" d=\"M291,-36C291,-36 261,-36 261,-36 255,-36 249,-30 249,-24 249,-24 249,-12 249,-12 249,-6 255,0 261,0 261,0 291,0 291,0 297,0 303,-6 303,-12 303,-12 303,-24 303,-24 303,-30 297,-36 291,-36\"/>\n<text text-anchor=\"middle\" x=\"276\" y=\"-14.3\" font-family=\"Helvetica,sans-Serif\" font-size=\"14.00\">(...)</text>\n</g>\n<!-- 20&#45;&gt;32 -->\n<g id=\"edge8\" class=\"edge\">\n<title>20&#45;&gt;32</title>\n<path fill=\"none\" stroke=\"black\" d=\"M253.99,-71.76C257.67,-62.94 261.47,-53.84 264.85,-45.72\"/>\n<polygon fill=\"black\" stroke=\"black\" points=\"268.12,-46.98 268.74,-36.41 261.66,-44.29 268.12,-46.98\"/>\n</g>\n<!-- 38 -->\n<g id=\"node11\" class=\"node\">\n<title>38</title>\n<path fill=\"#ea975c\" stroke=\"black\" d=\"M475.5,-155C475.5,-155 368.5,-155 368.5,-155 362.5,-155 356.5,-149 356.5,-143 356.5,-143 356.5,-84 356.5,-84 356.5,-78 362.5,-72 368.5,-72 368.5,-72 475.5,-72 475.5,-72 481.5,-72 487.5,-78 487.5,-84 487.5,-84 487.5,-143 487.5,-143 487.5,-149 481.5,-155 475.5,-155\"/>\n<text text-anchor=\"start\" x=\"364.5\" y=\"-139.8\" font-family=\"Helvetica,sans-Serif\" font-size=\"14.00\">credit_history ≤ 2.5</text>\n<text text-anchor=\"start\" x=\"386.5\" y=\"-124.8\" font-family=\"Helvetica,sans-Serif\" font-size=\"14.00\">gini = 0.253</text>\n<text text-anchor=\"start\" x=\"377\" y=\"-109.8\" font-family=\"Helvetica,sans-Serif\" font-size=\"14.00\">samples = 248</text>\n<text text-anchor=\"start\" x=\"371.5\" y=\"-94.8\" font-family=\"Helvetica,sans-Serif\" font-size=\"14.00\">value = [344, 60]</text>\n<text text-anchor=\"start\" x=\"381.5\" y=\"-79.8\" font-family=\"Helvetica,sans-Serif\" font-size=\"14.00\">class = Good</text>\n</g>\n<!-- 37&#45;&gt;38 -->\n<g id=\"edge10\" class=\"edge\">\n<title>37&#45;&gt;38</title>\n<path fill=\"none\" stroke=\"black\" d=\"M478.82,-190.91C472.14,-181.92 464.99,-172.32 458.1,-163.05\"/>\n<polygon fill=\"black\" stroke=\"black\" points=\"460.91,-160.96 452.13,-155.02 455.29,-165.13 460.91,-160.96\"/>\n</g>\n<!-- 155 -->\n<g id=\"node14\" class=\"node\">\n<title>155</title>\n<path fill=\"#f2c2a0\" stroke=\"black\" d=\"M696,-155C696,-155 518,-155 518,-155 512,-155 506,-149 506,-143 506,-143 506,-84 506,-84 506,-78 512,-72 518,-72 518,-72 696,-72 696,-72 702,-72 708,-78 708,-84 708,-84 708,-143 708,-143 708,-149 702,-155 696,-155\"/>\n<text text-anchor=\"start\" x=\"514\" y=\"-139.8\" font-family=\"Helvetica,sans-Serif\" font-size=\"14.00\">checking_account_status ≤ 2.5</text>\n<text text-anchor=\"start\" x=\"575\" y=\"-124.8\" font-family=\"Helvetica,sans-Serif\" font-size=\"14.00\">gini = 0.45</text>\n<text text-anchor=\"start\" x=\"562\" y=\"-109.8\" font-family=\"Helvetica,sans-Serif\" font-size=\"14.00\">samples = 245</text>\n<text text-anchor=\"start\" x=\"552.5\" y=\"-94.8\" font-family=\"Helvetica,sans-Serif\" font-size=\"14.00\">value = [243, 126]</text>\n<text text-anchor=\"start\" x=\"566.5\" y=\"-79.8\" font-family=\"Helvetica,sans-Serif\" font-size=\"14.00\">class = Good</text>\n</g>\n<!-- 37&#45;&gt;155 -->\n<g id=\"edge13\" class=\"edge\">\n<title>37&#45;&gt;155</title>\n<path fill=\"none\" stroke=\"black\" d=\"M543,-190.91C550.6,-181.83 558.74,-172.12 566.57,-162.77\"/>\n<polygon fill=\"black\" stroke=\"black\" points=\"569.32,-164.93 573.06,-155.02 563.96,-160.44 569.32,-164.93\"/>\n</g>\n<!-- 39 -->\n<g id=\"node12\" class=\"node\">\n<title>39</title>\n<path fill=\"#c0c0c0\" stroke=\"black\" d=\"M401,-36C401,-36 371,-36 371,-36 365,-36 359,-30 359,-24 359,-24 359,-12 359,-12 359,-6 365,0 371,0 371,0 401,0 401,0 407,0 413,-6 413,-12 413,-12 413,-24 413,-24 413,-30 407,-36 401,-36\"/>\n<text text-anchor=\"middle\" x=\"386\" y=\"-14.3\" font-family=\"Helvetica,sans-Serif\" font-size=\"14.00\">(...)</text>\n</g>\n<!-- 38&#45;&gt;39 -->\n<g id=\"edge11\" class=\"edge\">\n<title>38&#45;&gt;39</title>\n<path fill=\"none\" stroke=\"black\" d=\"M406.31,-71.76C402.96,-63.04 399.49,-54.04 396.39,-45.99\"/>\n<polygon fill=\"black\" stroke=\"black\" points=\"399.56,-44.48 392.7,-36.41 393.03,-46.99 399.56,-44.48\"/>\n</g>\n<!-- 128 -->\n<g id=\"node13\" class=\"node\">\n<title>128</title>\n<path fill=\"#c0c0c0\" stroke=\"black\" d=\"M473,-36C473,-36 443,-36 443,-36 437,-36 431,-30 431,-24 431,-24 431,-12 431,-12 431,-6 437,0 443,0 443,0 473,0 473,0 479,0 485,-6 485,-12 485,-12 485,-24 485,-24 485,-30 479,-36 473,-36\"/>\n<text text-anchor=\"middle\" x=\"458\" y=\"-14.3\" font-family=\"Helvetica,sans-Serif\" font-size=\"14.00\">(...)</text>\n</g>\n<!-- 38&#45;&gt;128 -->\n<g id=\"edge12\" class=\"edge\">\n<title>38&#45;&gt;128</title>\n<path fill=\"none\" stroke=\"black\" d=\"M437.69,-71.76C441.04,-63.04 444.51,-54.04 447.61,-45.99\"/>\n<polygon fill=\"black\" stroke=\"black\" points=\"450.97,-46.99 451.3,-36.41 444.44,-44.48 450.97,-46.99\"/>\n</g>\n<!-- 156 -->\n<g id=\"node15\" class=\"node\">\n<title>156</title>\n<path fill=\"#c0c0c0\" stroke=\"black\" d=\"M565,-36C565,-36 535,-36 535,-36 529,-36 523,-30 523,-24 523,-24 523,-12 523,-12 523,-6 529,0 535,0 535,0 565,0 565,0 571,0 577,-6 577,-12 577,-12 577,-24 577,-24 577,-30 571,-36 565,-36\"/>\n<text text-anchor=\"middle\" x=\"550\" y=\"-14.3\" font-family=\"Helvetica,sans-Serif\" font-size=\"14.00\">(...)</text>\n</g>\n<!-- 155&#45;&gt;156 -->\n<g id=\"edge14\" class=\"edge\">\n<title>155&#45;&gt;156</title>\n<path fill=\"none\" stroke=\"black\" d=\"M582.16,-71.76C576.67,-62.75 570.99,-53.44 565.97,-45.19\"/>\n<polygon fill=\"black\" stroke=\"black\" points=\"568.8,-43.12 560.61,-36.41 562.83,-46.77 568.8,-43.12\"/>\n</g>\n<!-- 275 -->\n<g id=\"node16\" class=\"node\">\n<title>275</title>\n<path fill=\"#c0c0c0\" stroke=\"black\" d=\"M637,-36C637,-36 607,-36 607,-36 601,-36 595,-30 595,-24 595,-24 595,-12 595,-12 595,-6 601,0 607,0 607,0 637,0 637,0 643,0 649,-6 649,-12 649,-12 649,-24 649,-24 649,-30 643,-36 637,-36\"/>\n<text text-anchor=\"middle\" x=\"622\" y=\"-14.3\" font-family=\"Helvetica,sans-Serif\" font-size=\"14.00\">(...)</text>\n</g>\n<!-- 155&#45;&gt;275 -->\n<g id=\"edge15\" class=\"edge\">\n<title>155&#45;&gt;275</title>\n<path fill=\"none\" stroke=\"black\" d=\"M613.54,-71.76C614.9,-63.24 616.31,-54.44 617.58,-46.53\"/>\n<polygon fill=\"black\" stroke=\"black\" points=\"621.08,-46.83 619.21,-36.41 614.17,-45.72 621.08,-46.83\"/>\n</g>\n<!-- 309 -->\n<g id=\"node18\" class=\"node\">\n<title>309</title>\n<path fill=\"#a3d1f3\" stroke=\"black\" d=\"M898.5,-274C898.5,-274 791.5,-274 791.5,-274 785.5,-274 779.5,-268 779.5,-262 779.5,-262 779.5,-203 779.5,-203 779.5,-197 785.5,-191 791.5,-191 791.5,-191 898.5,-191 898.5,-191 904.5,-191 910.5,-197 910.5,-203 910.5,-203 910.5,-262 910.5,-262 910.5,-268 904.5,-274 898.5,-274\"/>\n<text text-anchor=\"start\" x=\"787.5\" y=\"-258.8\" font-family=\"Helvetica,sans-Serif\" font-size=\"14.00\">credit_history ≤ 2.5</text>\n<text text-anchor=\"start\" x=\"809.5\" y=\"-243.8\" font-family=\"Helvetica,sans-Serif\" font-size=\"14.00\">gini = 0.454</text>\n<text text-anchor=\"start\" x=\"804\" y=\"-228.8\" font-family=\"Helvetica,sans-Serif\" font-size=\"14.00\">samples = 56</text>\n<text text-anchor=\"start\" x=\"798\" y=\"-213.8\" font-family=\"Helvetica,sans-Serif\" font-size=\"14.00\">value = [32, 60]</text>\n<text text-anchor=\"start\" x=\"809.5\" y=\"-198.8\" font-family=\"Helvetica,sans-Serif\" font-size=\"14.00\">class = Bad</text>\n</g>\n<!-- 308&#45;&gt;309 -->\n<g id=\"edge17\" class=\"edge\">\n<title>308&#45;&gt;309</title>\n<path fill=\"none\" stroke=\"black\" d=\"M845,-309.91C845,-301.65 845,-292.86 845,-284.3\"/>\n<polygon fill=\"black\" stroke=\"black\" points=\"848.5,-284.02 845,-274.02 841.5,-284.02 848.5,-284.02\"/>\n</g>\n<!-- 344 -->\n<g id=\"node25\" class=\"node\">\n<title>344</title>\n<path fill=\"#eda877\" stroke=\"black\" d=\"M1159,-274C1159,-274 1005,-274 1005,-274 999,-274 993,-268 993,-262 993,-262 993,-203 993,-203 993,-197 999,-191 1005,-191 1005,-191 1159,-191 1159,-191 1165,-191 1171,-197 1171,-203 1171,-203 1171,-262 1171,-262 1171,-268 1165,-274 1159,-274\"/>\n<text text-anchor=\"start\" x=\"1001\" y=\"-258.8\" font-family=\"Helvetica,sans-Serif\" font-size=\"14.00\">present_employment ≤ 1.5</text>\n<text text-anchor=\"start\" x=\"1046.5\" y=\"-243.8\" font-family=\"Helvetica,sans-Serif\" font-size=\"14.00\">gini = 0.362</text>\n<text text-anchor=\"start\" x=\"1041\" y=\"-228.8\" font-family=\"Helvetica,sans-Serif\" font-size=\"14.00\">samples = 37</text>\n<text text-anchor=\"start\" x=\"1035\" y=\"-213.8\" font-family=\"Helvetica,sans-Serif\" font-size=\"14.00\">value = [45, 14]</text>\n<text text-anchor=\"start\" x=\"1041.5\" y=\"-198.8\" font-family=\"Helvetica,sans-Serif\" font-size=\"14.00\">class = Good</text>\n</g>\n<!-- 308&#45;&gt;344 -->\n<g id=\"edge24\" class=\"edge\">\n<title>308&#45;&gt;344</title>\n<path fill=\"none\" stroke=\"black\" d=\"M927.23,-309.91C947.72,-299.79 969.82,-288.88 990.73,-278.56\"/>\n<polygon fill=\"black\" stroke=\"black\" points=\"992.5,-281.59 999.92,-274.02 989.4,-275.31 992.5,-281.59\"/>\n</g>\n<!-- 310 -->\n<g id=\"node19\" class=\"node\">\n<title>310</title>\n<path fill=\"#78bced\" stroke=\"black\" d=\"M824,-155C824,-155 738,-155 738,-155 732,-155 726,-149 726,-143 726,-143 726,-84 726,-84 726,-78 732,-72 738,-72 738,-72 824,-72 824,-72 830,-72 836,-78 836,-84 836,-84 836,-143 836,-143 836,-149 830,-155 824,-155\"/>\n<text text-anchor=\"start\" x=\"739\" y=\"-139.8\" font-family=\"Helvetica,sans-Serif\" font-size=\"14.00\">property ≤ 0.5</text>\n<text text-anchor=\"start\" x=\"745.5\" y=\"-124.8\" font-family=\"Helvetica,sans-Serif\" font-size=\"14.00\">gini = 0.367</text>\n<text text-anchor=\"start\" x=\"740\" y=\"-109.8\" font-family=\"Helvetica,sans-Serif\" font-size=\"14.00\">samples = 41</text>\n<text text-anchor=\"start\" x=\"734\" y=\"-94.8\" font-family=\"Helvetica,sans-Serif\" font-size=\"14.00\">value = [16, 50]</text>\n<text text-anchor=\"start\" x=\"745.5\" y=\"-79.8\" font-family=\"Helvetica,sans-Serif\" font-size=\"14.00\">class = Bad</text>\n</g>\n<!-- 309&#45;&gt;310 -->\n<g id=\"edge18\" class=\"edge\">\n<title>309&#45;&gt;310</title>\n<path fill=\"none\" stroke=\"black\" d=\"M822.8,-190.91C818.03,-182.2 812.94,-172.9 808.02,-163.89\"/>\n<polygon fill=\"black\" stroke=\"black\" points=\"811.03,-162.11 803.17,-155.02 804.89,-165.47 811.03,-162.11\"/>\n</g>\n<!-- 335 -->\n<g id=\"node22\" class=\"node\">\n<title>335</title>\n<path fill=\"#f5d0b5\" stroke=\"black\" d=\"M1001.5,-155C1001.5,-155 866.5,-155 866.5,-155 860.5,-155 854.5,-149 854.5,-143 854.5,-143 854.5,-84 854.5,-84 854.5,-78 860.5,-72 866.5,-72 866.5,-72 1001.5,-72 1001.5,-72 1007.5,-72 1013.5,-78 1013.5,-84 1013.5,-84 1013.5,-143 1013.5,-143 1013.5,-149 1007.5,-155 1001.5,-155\"/>\n<text text-anchor=\"start\" x=\"862.5\" y=\"-139.8\" font-family=\"Helvetica,sans-Serif\" font-size=\"14.00\">credit_amount ≤ 6375.0</text>\n<text text-anchor=\"start\" x=\"898.5\" y=\"-124.8\" font-family=\"Helvetica,sans-Serif\" font-size=\"14.00\">gini = 0.473</text>\n<text text-anchor=\"start\" x=\"893\" y=\"-109.8\" font-family=\"Helvetica,sans-Serif\" font-size=\"14.00\">samples = 15</text>\n<text text-anchor=\"start\" x=\"887\" y=\"-94.8\" font-family=\"Helvetica,sans-Serif\" font-size=\"14.00\">value = [16, 10]</text>\n<text text-anchor=\"start\" x=\"893.5\" y=\"-79.8\" font-family=\"Helvetica,sans-Serif\" font-size=\"14.00\">class = Good</text>\n</g>\n<!-- 309&#45;&gt;335 -->\n<g id=\"edge21\" class=\"edge\">\n<title>309&#45;&gt;335</title>\n<path fill=\"none\" stroke=\"black\" d=\"M875.88,-190.91C882.71,-181.92 890.02,-172.32 897.07,-163.05\"/>\n<polygon fill=\"black\" stroke=\"black\" points=\"899.91,-165.1 903.18,-155.02 894.34,-160.86 899.91,-165.1\"/>\n</g>\n<!-- 311 -->\n<g id=\"node20\" class=\"node\">\n<title>311</title>\n<path fill=\"#c0c0c0\" stroke=\"black\" d=\"M728,-36C728,-36 698,-36 698,-36 692,-36 686,-30 686,-24 686,-24 686,-12 686,-12 686,-6 692,0 698,0 698,0 728,0 728,0 734,0 740,-6 740,-12 740,-12 740,-24 740,-24 740,-30 734,-36 728,-36\"/>\n<text text-anchor=\"middle\" x=\"713\" y=\"-14.3\" font-family=\"Helvetica,sans-Serif\" font-size=\"14.00\">(...)</text>\n</g>\n<!-- 310&#45;&gt;311 -->\n<g id=\"edge19\" class=\"edge\">\n<title>310&#45;&gt;311</title>\n<path fill=\"none\" stroke=\"black\" d=\"M751.37,-71.76C744.68,-62.56 737.75,-53.04 731.66,-44.66\"/>\n<polygon fill=\"black\" stroke=\"black\" points=\"734.37,-42.43 725.66,-36.41 728.71,-46.55 734.37,-42.43\"/>\n</g>\n<!-- 314 -->\n<g id=\"node21\" class=\"node\">\n<title>314</title>\n<path fill=\"#c0c0c0\" stroke=\"black\" d=\"M800,-36C800,-36 770,-36 770,-36 764,-36 758,-30 758,-24 758,-24 758,-12 758,-12 758,-6 764,0 770,0 770,0 800,0 800,0 806,0 812,-6 812,-12 812,-12 812,-24 812,-24 812,-30 806,-36 800,-36\"/>\n<text text-anchor=\"middle\" x=\"785\" y=\"-14.3\" font-family=\"Helvetica,sans-Serif\" font-size=\"14.00\">(...)</text>\n</g>\n<!-- 310&#45;&gt;314 -->\n<g id=\"edge20\" class=\"edge\">\n<title>310&#45;&gt;314</title>\n<path fill=\"none\" stroke=\"black\" d=\"M782.74,-71.76C783.11,-63.24 783.48,-54.44 783.82,-46.53\"/>\n<polygon fill=\"black\" stroke=\"black\" points=\"787.32,-46.55 784.26,-36.41 780.33,-46.25 787.32,-46.55\"/>\n</g>\n<!-- 336 -->\n<g id=\"node23\" class=\"node\">\n<title>336</title>\n<path fill=\"#c0c0c0\" stroke=\"black\" d=\"M913,-36C913,-36 883,-36 883,-36 877,-36 871,-30 871,-24 871,-24 871,-12 871,-12 871,-6 877,0 883,0 883,0 913,0 913,0 919,0 925,-6 925,-12 925,-12 925,-24 925,-24 925,-30 919,-36 913,-36\"/>\n<text text-anchor=\"middle\" x=\"898\" y=\"-14.3\" font-family=\"Helvetica,sans-Serif\" font-size=\"14.00\">(...)</text>\n</g>\n<!-- 335&#45;&gt;336 -->\n<g id=\"edge22\" class=\"edge\">\n<title>335&#45;&gt;336</title>\n<path fill=\"none\" stroke=\"black\" d=\"M918.31,-71.76C914.96,-63.04 911.49,-54.04 908.39,-45.99\"/>\n<polygon fill=\"black\" stroke=\"black\" points=\"911.56,-44.48 904.7,-36.41 905.03,-46.99 911.56,-44.48\"/>\n</g>\n<!-- 337 -->\n<g id=\"node24\" class=\"node\">\n<title>337</title>\n<path fill=\"#c0c0c0\" stroke=\"black\" d=\"M985,-36C985,-36 955,-36 955,-36 949,-36 943,-30 943,-24 943,-24 943,-12 943,-12 943,-6 949,0 955,0 955,0 985,0 985,0 991,0 997,-6 997,-12 997,-12 997,-24 997,-24 997,-30 991,-36 985,-36\"/>\n<text text-anchor=\"middle\" x=\"970\" y=\"-14.3\" font-family=\"Helvetica,sans-Serif\" font-size=\"14.00\">(...)</text>\n</g>\n<!-- 335&#45;&gt;337 -->\n<g id=\"edge23\" class=\"edge\">\n<title>335&#45;&gt;337</title>\n<path fill=\"none\" stroke=\"black\" d=\"M949.69,-71.76C953.04,-63.04 956.51,-54.04 959.61,-45.99\"/>\n<polygon fill=\"black\" stroke=\"black\" points=\"962.97,-46.99 963.3,-36.41 956.44,-44.48 962.97,-46.99\"/>\n</g>\n<!-- 345 -->\n<g id=\"node26\" class=\"node\">\n<title>345</title>\n<path fill=\"#399de5\" stroke=\"black\" d=\"M1121,-147.5C1121,-147.5 1043,-147.5 1043,-147.5 1037,-147.5 1031,-141.5 1031,-135.5 1031,-135.5 1031,-91.5 1031,-91.5 1031,-85.5 1037,-79.5 1043,-79.5 1043,-79.5 1121,-79.5 1121,-79.5 1127,-79.5 1133,-85.5 1133,-91.5 1133,-91.5 1133,-135.5 1133,-135.5 1133,-141.5 1127,-147.5 1121,-147.5\"/>\n<text text-anchor=\"start\" x=\"1054\" y=\"-132.3\" font-family=\"Helvetica,sans-Serif\" font-size=\"14.00\">gini = 0.0</text>\n<text text-anchor=\"start\" x=\"1044.5\" y=\"-117.3\" font-family=\"Helvetica,sans-Serif\" font-size=\"14.00\">samples = 5</text>\n<text text-anchor=\"start\" x=\"1039\" y=\"-102.3\" font-family=\"Helvetica,sans-Serif\" font-size=\"14.00\">value = [0, 10]</text>\n<text text-anchor=\"start\" x=\"1046.5\" y=\"-87.3\" font-family=\"Helvetica,sans-Serif\" font-size=\"14.00\">class = Bad</text>\n</g>\n<!-- 344&#45;&gt;345 -->\n<g id=\"edge25\" class=\"edge\">\n<title>344&#45;&gt;345</title>\n<path fill=\"none\" stroke=\"black\" d=\"M1082,-190.91C1082,-180.2 1082,-168.62 1082,-157.78\"/>\n<polygon fill=\"black\" stroke=\"black\" points=\"1085.5,-157.67 1082,-147.67 1078.5,-157.67 1085.5,-157.67\"/>\n</g>\n<!-- 346 -->\n<g id=\"node27\" class=\"node\">\n<title>346</title>\n<path fill=\"#e78c4b\" stroke=\"black\" d=\"M1241,-155C1241,-155 1163,-155 1163,-155 1157,-155 1151,-149 1151,-143 1151,-143 1151,-84 1151,-84 1151,-78 1157,-72 1163,-72 1163,-72 1241,-72 1241,-72 1247,-72 1253,-78 1253,-84 1253,-84 1253,-143 1253,-143 1253,-149 1247,-155 1241,-155\"/>\n<text text-anchor=\"start\" x=\"1162\" y=\"-139.8\" font-family=\"Helvetica,sans-Serif\" font-size=\"14.00\">savings ≤ 1.5</text>\n<text text-anchor=\"start\" x=\"1170\" y=\"-124.8\" font-family=\"Helvetica,sans-Serif\" font-size=\"14.00\">gini = 0.15</text>\n<text text-anchor=\"start\" x=\"1161\" y=\"-109.8\" font-family=\"Helvetica,sans-Serif\" font-size=\"14.00\">samples = 32</text>\n<text text-anchor=\"start\" x=\"1159\" y=\"-94.8\" font-family=\"Helvetica,sans-Serif\" font-size=\"14.00\">value = [45, 4]</text>\n<text text-anchor=\"start\" x=\"1161.5\" y=\"-79.8\" font-family=\"Helvetica,sans-Serif\" font-size=\"14.00\">class = Good</text>\n</g>\n<!-- 344&#45;&gt;346 -->\n<g id=\"edge26\" class=\"edge\">\n<title>344&#45;&gt;346</title>\n<path fill=\"none\" stroke=\"black\" d=\"M1123.63,-190.91C1133.13,-181.65 1143.3,-171.73 1153.07,-162.21\"/>\n<polygon fill=\"black\" stroke=\"black\" points=\"1155.72,-164.51 1160.44,-155.02 1150.84,-159.5 1155.72,-164.51\"/>\n</g>\n<!-- 347 -->\n<g id=\"node28\" class=\"node\">\n<title>347</title>\n<path fill=\"#c0c0c0\" stroke=\"black\" d=\"M1181,-36C1181,-36 1151,-36 1151,-36 1145,-36 1139,-30 1139,-24 1139,-24 1139,-12 1139,-12 1139,-6 1145,0 1151,0 1151,0 1181,0 1181,0 1187,0 1193,-6 1193,-12 1193,-12 1193,-24 1193,-24 1193,-30 1187,-36 1181,-36\"/>\n<text text-anchor=\"middle\" x=\"1166\" y=\"-14.3\" font-family=\"Helvetica,sans-Serif\" font-size=\"14.00\">(...)</text>\n</g>\n<!-- 346&#45;&gt;347 -->\n<g id=\"edge27\" class=\"edge\">\n<title>346&#45;&gt;347</title>\n<path fill=\"none\" stroke=\"black\" d=\"M1186.31,-71.76C1182.96,-63.04 1179.49,-54.04 1176.39,-45.99\"/>\n<polygon fill=\"black\" stroke=\"black\" points=\"1179.56,-44.48 1172.7,-36.41 1173.03,-46.99 1179.56,-44.48\"/>\n</g>\n<!-- 348 -->\n<g id=\"node29\" class=\"node\">\n<title>348</title>\n<path fill=\"#c0c0c0\" stroke=\"black\" d=\"M1253,-36C1253,-36 1223,-36 1223,-36 1217,-36 1211,-30 1211,-24 1211,-24 1211,-12 1211,-12 1211,-6 1217,0 1223,0 1223,0 1253,0 1253,0 1259,0 1265,-6 1265,-12 1265,-12 1265,-24 1265,-24 1265,-30 1259,-36 1253,-36\"/>\n<text text-anchor=\"middle\" x=\"1238\" y=\"-14.3\" font-family=\"Helvetica,sans-Serif\" font-size=\"14.00\">(...)</text>\n</g>\n<!-- 346&#45;&gt;348 -->\n<g id=\"edge28\" class=\"edge\">\n<title>346&#45;&gt;348</title>\n<path fill=\"none\" stroke=\"black\" d=\"M1217.69,-71.76C1221.04,-63.04 1224.51,-54.04 1227.61,-45.99\"/>\n<polygon fill=\"black\" stroke=\"black\" points=\"1230.97,-46.99 1231.3,-36.41 1224.44,-44.48 1230.97,-46.99\"/>\n</g>\n</g>\n</svg>\n",
            "text/plain": [
              "<graphviz.sources.Source at 0x78e04f621450>"
            ]
          },
          "metadata": {},
          "execution_count": 47
        }
      ]
    },
    {
      "cell_type": "code",
      "source": [
        "files.download(\"random_forest_tree.png\")"
      ],
      "metadata": {
        "colab": {
          "base_uri": "https://localhost:8080/",
          "height": 17
        },
        "id": "0URIiOXG8LU-",
        "outputId": "c76518ca-3b47-4901-cabd-c9681a8df0b6"
      },
      "execution_count": null,
      "outputs": [
        {
          "output_type": "display_data",
          "data": {
            "text/plain": [
              "<IPython.core.display.Javascript object>"
            ],
            "application/javascript": [
              "\n",
              "    async function download(id, filename, size) {\n",
              "      if (!google.colab.kernel.accessAllowed) {\n",
              "        return;\n",
              "      }\n",
              "      const div = document.createElement('div');\n",
              "      const label = document.createElement('label');\n",
              "      label.textContent = `Downloading \"${filename}\": `;\n",
              "      div.appendChild(label);\n",
              "      const progress = document.createElement('progress');\n",
              "      progress.max = size;\n",
              "      div.appendChild(progress);\n",
              "      document.body.appendChild(div);\n",
              "\n",
              "      const buffers = [];\n",
              "      let downloaded = 0;\n",
              "\n",
              "      const channel = await google.colab.kernel.comms.open(id);\n",
              "      // Send a message to notify the kernel that we're ready.\n",
              "      channel.send({})\n",
              "\n",
              "      for await (const message of channel.messages) {\n",
              "        // Send a message to notify the kernel that we're ready.\n",
              "        channel.send({})\n",
              "        if (message.buffers) {\n",
              "          for (const buffer of message.buffers) {\n",
              "            buffers.push(buffer);\n",
              "            downloaded += buffer.byteLength;\n",
              "            progress.value = downloaded;\n",
              "          }\n",
              "        }\n",
              "      }\n",
              "      const blob = new Blob(buffers, {type: 'application/binary'});\n",
              "      const a = document.createElement('a');\n",
              "      a.href = window.URL.createObjectURL(blob);\n",
              "      a.download = filename;\n",
              "      div.appendChild(a);\n",
              "      a.click();\n",
              "      div.remove();\n",
              "    }\n",
              "  "
            ]
          },
          "metadata": {}
        },
        {
          "output_type": "display_data",
          "data": {
            "text/plain": [
              "<IPython.core.display.Javascript object>"
            ],
            "application/javascript": [
              "download(\"download_fc8ad718-6283-4477-9877-9f330a40a9cb\", \"random_forest_tree.png\", 2426720)"
            ]
          },
          "metadata": {}
        }
      ]
    }
  ]
}